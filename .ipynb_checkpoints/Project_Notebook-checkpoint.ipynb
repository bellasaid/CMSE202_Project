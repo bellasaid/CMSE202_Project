{
 "cells": [
  {
   "cell_type": "markdown",
   "metadata": {},
   "source": [
    "# Predicting Movie Likes and Dislikes"
   ]
  },
  {
   "cell_type": "code",
   "execution_count": 1,
   "metadata": {},
   "outputs": [],
   "source": [
    "## All important imports go here\n",
    "import numpy as np\n",
    "import pandas as pd\n",
    "import seaborn as sns\n",
    "import matplotlib.pyplot as plt\n",
    "%matplotlib inline\n",
    "import statsmodels.api as sm\n",
    "from sklearn.preprocessing import LabelEncoder, OneHotEncoder\n",
    "from sklearn.model_selection import train_test_split\n",
    "from sklearn.model_selection import GridSearchCV\n",
    "from sklearn.metrics import classification_report\n",
    "from sklearn.metrics import confusion_matrix, accuracy_score, roc_curve, roc_auc_score\n",
    "from sklearn.svm import SVC\n",
    "from sklearn.decomposition import PCA\n",
    "from sklearn.preprocessing import StandardScaler\n",
    "from sklearn.neighbors import KNeighborsClassifier\n",
    "from sklearn.ensemble import RandomForestClassifier\n",
    "from sklearn.datasets import make_classification"
   ]
  },
  {
   "cell_type": "markdown",
   "metadata": {},
   "source": [
    "In this project we are attempting to view different models' ability to predict likes and dislikes of movies. Below we have downloaded a dataframe from Kaggle that includes different information about movies from 1986-2016. The information includes things such as genre, company, the name of the movie, runtime, etc. What concerns us most is the score column that is included in this dataframe. The movies were each given a score that was ranked out of 10, 10 being the best, 1 being the worst. We want to utilize these scores to be able to build and train a model to predict movies scores accurately. "
   ]
  },
  {
   "cell_type": "code",
   "execution_count": 2,
   "metadata": {},
   "outputs": [],
   "source": [
    "movies = pd.read_csv('movies.csv', encoding = 'latin-1') #Read in this data"
   ]
  },
  {
   "cell_type": "code",
   "execution_count": 3,
   "metadata": {
    "scrolled": false
   },
   "outputs": [
    {
     "data": {
      "text/html": [
       "<div>\n",
       "<style scoped>\n",
       "    .dataframe tbody tr th:only-of-type {\n",
       "        vertical-align: middle;\n",
       "    }\n",
       "\n",
       "    .dataframe tbody tr th {\n",
       "        vertical-align: top;\n",
       "    }\n",
       "\n",
       "    .dataframe thead th {\n",
       "        text-align: right;\n",
       "    }\n",
       "</style>\n",
       "<table border=\"1\" class=\"dataframe\">\n",
       "  <thead>\n",
       "    <tr style=\"text-align: right;\">\n",
       "      <th></th>\n",
       "      <th>budget</th>\n",
       "      <th>company</th>\n",
       "      <th>country</th>\n",
       "      <th>director</th>\n",
       "      <th>genre</th>\n",
       "      <th>gross</th>\n",
       "      <th>name</th>\n",
       "      <th>rating</th>\n",
       "      <th>released</th>\n",
       "      <th>runtime</th>\n",
       "      <th>score</th>\n",
       "      <th>star</th>\n",
       "      <th>votes</th>\n",
       "      <th>writer</th>\n",
       "      <th>year</th>\n",
       "    </tr>\n",
       "  </thead>\n",
       "  <tbody>\n",
       "    <tr>\n",
       "      <th>0</th>\n",
       "      <td>8000000.0</td>\n",
       "      <td>Columbia Pictures Corporation</td>\n",
       "      <td>USA</td>\n",
       "      <td>Rob Reiner</td>\n",
       "      <td>Adventure</td>\n",
       "      <td>52287414.0</td>\n",
       "      <td>Stand by Me</td>\n",
       "      <td>R</td>\n",
       "      <td>1986-08-22</td>\n",
       "      <td>89</td>\n",
       "      <td>8.1</td>\n",
       "      <td>Wil Wheaton</td>\n",
       "      <td>299174</td>\n",
       "      <td>Stephen King</td>\n",
       "      <td>1986</td>\n",
       "    </tr>\n",
       "    <tr>\n",
       "      <th>1</th>\n",
       "      <td>6000000.0</td>\n",
       "      <td>Paramount Pictures</td>\n",
       "      <td>USA</td>\n",
       "      <td>John Hughes</td>\n",
       "      <td>Comedy</td>\n",
       "      <td>70136369.0</td>\n",
       "      <td>Ferris Bueller's Day Off</td>\n",
       "      <td>PG-13</td>\n",
       "      <td>1986-06-11</td>\n",
       "      <td>103</td>\n",
       "      <td>7.8</td>\n",
       "      <td>Matthew Broderick</td>\n",
       "      <td>264740</td>\n",
       "      <td>John Hughes</td>\n",
       "      <td>1986</td>\n",
       "    </tr>\n",
       "    <tr>\n",
       "      <th>2</th>\n",
       "      <td>15000000.0</td>\n",
       "      <td>Paramount Pictures</td>\n",
       "      <td>USA</td>\n",
       "      <td>Tony Scott</td>\n",
       "      <td>Action</td>\n",
       "      <td>179800601.0</td>\n",
       "      <td>Top Gun</td>\n",
       "      <td>PG</td>\n",
       "      <td>1986-05-16</td>\n",
       "      <td>110</td>\n",
       "      <td>6.9</td>\n",
       "      <td>Tom Cruise</td>\n",
       "      <td>236909</td>\n",
       "      <td>Jim Cash</td>\n",
       "      <td>1986</td>\n",
       "    </tr>\n",
       "    <tr>\n",
       "      <th>3</th>\n",
       "      <td>18500000.0</td>\n",
       "      <td>Twentieth Century Fox Film Corporation</td>\n",
       "      <td>USA</td>\n",
       "      <td>James Cameron</td>\n",
       "      <td>Action</td>\n",
       "      <td>85160248.0</td>\n",
       "      <td>Aliens</td>\n",
       "      <td>R</td>\n",
       "      <td>1986-07-18</td>\n",
       "      <td>137</td>\n",
       "      <td>8.4</td>\n",
       "      <td>Sigourney Weaver</td>\n",
       "      <td>540152</td>\n",
       "      <td>James Cameron</td>\n",
       "      <td>1986</td>\n",
       "    </tr>\n",
       "    <tr>\n",
       "      <th>4</th>\n",
       "      <td>9000000.0</td>\n",
       "      <td>Walt Disney Pictures</td>\n",
       "      <td>USA</td>\n",
       "      <td>Randal Kleiser</td>\n",
       "      <td>Adventure</td>\n",
       "      <td>18564613.0</td>\n",
       "      <td>Flight of the Navigator</td>\n",
       "      <td>PG</td>\n",
       "      <td>1986-08-01</td>\n",
       "      <td>90</td>\n",
       "      <td>6.9</td>\n",
       "      <td>Joey Cramer</td>\n",
       "      <td>36636</td>\n",
       "      <td>Mark H. Baker</td>\n",
       "      <td>1986</td>\n",
       "    </tr>\n",
       "  </tbody>\n",
       "</table>\n",
       "</div>"
      ],
      "text/plain": [
       "       budget                                 company country        director  \\\n",
       "0   8000000.0           Columbia Pictures Corporation     USA      Rob Reiner   \n",
       "1   6000000.0                      Paramount Pictures     USA     John Hughes   \n",
       "2  15000000.0                      Paramount Pictures     USA      Tony Scott   \n",
       "3  18500000.0  Twentieth Century Fox Film Corporation     USA   James Cameron   \n",
       "4   9000000.0                    Walt Disney Pictures     USA  Randal Kleiser   \n",
       "\n",
       "       genre        gross                      name rating    released  \\\n",
       "0  Adventure   52287414.0               Stand by Me      R  1986-08-22   \n",
       "1     Comedy   70136369.0  Ferris Bueller's Day Off  PG-13  1986-06-11   \n",
       "2     Action  179800601.0                   Top Gun     PG  1986-05-16   \n",
       "3     Action   85160248.0                    Aliens      R  1986-07-18   \n",
       "4  Adventure   18564613.0   Flight of the Navigator     PG  1986-08-01   \n",
       "\n",
       "   runtime  score               star   votes         writer  year  \n",
       "0       89    8.1        Wil Wheaton  299174   Stephen King  1986  \n",
       "1      103    7.8  Matthew Broderick  264740    John Hughes  1986  \n",
       "2      110    6.9         Tom Cruise  236909       Jim Cash  1986  \n",
       "3      137    8.4   Sigourney Weaver  540152  James Cameron  1986  \n",
       "4       90    6.9        Joey Cramer   36636  Mark H. Baker  1986  "
      ]
     },
     "execution_count": 3,
     "metadata": {},
     "output_type": "execute_result"
    }
   ],
   "source": [
    "movies.head() #Display dataframe"
   ]
  },
  {
   "cell_type": "code",
   "execution_count": 4,
   "metadata": {},
   "outputs": [],
   "source": [
    "#Dropping unnecessary columns \n",
    "movies = movies.drop(columns =['country', 'rating', 'released', 'votes', 'writer', 'director', 'star'], axis =1)"
   ]
  },
  {
   "cell_type": "code",
   "execution_count": 5,
   "metadata": {
    "scrolled": true
   },
   "outputs": [],
   "source": [
    "avg_score = movies['score'].mean()"
   ]
  },
  {
   "cell_type": "code",
   "execution_count": 6,
   "metadata": {
    "scrolled": true
   },
   "outputs": [
    {
     "name": "stderr",
     "output_type": "stream",
     "text": [
      "<ipython-input-6-2812ab1c5f92>:2: SettingWithCopyWarning: \n",
      "A value is trying to be set on a copy of a slice from a DataFrame\n",
      "\n",
      "See the caveats in the documentation: https://pandas.pydata.org/pandas-docs/stable/user_guide/indexing.html#returning-a-view-versus-a-copy\n",
      "  movies['score'][movies['score'] < avg_score]= 0\n",
      "<ipython-input-6-2812ab1c5f92>:3: SettingWithCopyWarning: \n",
      "A value is trying to be set on a copy of a slice from a DataFrame\n",
      "\n",
      "See the caveats in the documentation: https://pandas.pydata.org/pandas-docs/stable/user_guide/indexing.html#returning-a-view-versus-a-copy\n",
      "  movies['score'][movies['score'] > avg_score]= 1\n"
     ]
    }
   ],
   "source": [
    "##Binarizing the movie ratings into zeros and ones for easy classification later on\n",
    "movies['score'][movies['score'] < avg_score]= 0\n",
    "movies['score'][movies['score'] > avg_score]= 1"
   ]
  },
  {
   "cell_type": "code",
   "execution_count": 7,
   "metadata": {},
   "outputs": [
    {
     "name": "stdout",
     "output_type": "stream",
     "text": [
      "Intercept and slope are: const    9.404442e+06\n",
      "gross    4.530648e-01\n",
      "dtype: float64\n"
     ]
    }
   ],
   "source": [
    "##Doing a linear regression to find values to replace 0.0 in the budget column \n",
    "x = movies['gross']\n",
    "y = movies['budget']\n",
    "\n",
    "x_constant = sm.add_constant(x)\n",
    "gross_budget_model = sm.OLS(y, x_constant)\n",
    "results = gross_budget_model.fit()\n",
    "print(\"Intercept and slope are:\", results.params)"
   ]
  },
  {
   "cell_type": "code",
   "execution_count": 8,
   "metadata": {},
   "outputs": [
    {
     "name": "stderr",
     "output_type": "stream",
     "text": [
      "/Users/Bella/opt/anaconda3/lib/python3.8/site-packages/pandas/core/indexing.py:671: SettingWithCopyWarning: \n",
      "A value is trying to be set on a copy of a slice from a DataFrame\n",
      "\n",
      "See the caveats in the documentation: https://pandas.pydata.org/pandas-docs/stable/user_guide/indexing.html#returning-a-view-versus-a-copy\n",
      "  self._setitem_with_indexer(indexer, value)\n"
     ]
    }
   ],
   "source": [
    "m = results.params[0]\n",
    "b = results.params[1]\n",
    "#Replacing budgets of 0 with the budget values calculated in linear regression model\n",
    "for i in range(movies.shape[0]):\n",
    "    if movies['budget'][i] ==0.0:\n",
    "        gross_val = movies['gross'][i]\n",
    "        y = m*gross_val + b\n",
    "        movies['budget'].iloc[i] = y"
   ]
  },
  {
   "cell_type": "code",
   "execution_count": 9,
   "metadata": {},
   "outputs": [
    {
     "data": {
      "text/html": [
       "<div>\n",
       "<style scoped>\n",
       "    .dataframe tbody tr th:only-of-type {\n",
       "        vertical-align: middle;\n",
       "    }\n",
       "\n",
       "    .dataframe tbody tr th {\n",
       "        vertical-align: top;\n",
       "    }\n",
       "\n",
       "    .dataframe thead th {\n",
       "        text-align: right;\n",
       "    }\n",
       "</style>\n",
       "<table border=\"1\" class=\"dataframe\">\n",
       "  <thead>\n",
       "    <tr style=\"text-align: right;\">\n",
       "      <th></th>\n",
       "      <th>budget</th>\n",
       "      <th>company</th>\n",
       "      <th>genre</th>\n",
       "      <th>gross</th>\n",
       "      <th>name</th>\n",
       "      <th>runtime</th>\n",
       "      <th>score</th>\n",
       "      <th>year</th>\n",
       "    </tr>\n",
       "  </thead>\n",
       "  <tbody>\n",
       "    <tr>\n",
       "      <th>0</th>\n",
       "      <td>8000000.0</td>\n",
       "      <td>Columbia Pictures Corporation</td>\n",
       "      <td>Adventure</td>\n",
       "      <td>52287414.0</td>\n",
       "      <td>Stand by Me</td>\n",
       "      <td>89</td>\n",
       "      <td>1.0</td>\n",
       "      <td>1986</td>\n",
       "    </tr>\n",
       "    <tr>\n",
       "      <th>1</th>\n",
       "      <td>6000000.0</td>\n",
       "      <td>Paramount Pictures</td>\n",
       "      <td>Comedy</td>\n",
       "      <td>70136369.0</td>\n",
       "      <td>Ferris Bueller's Day Off</td>\n",
       "      <td>103</td>\n",
       "      <td>1.0</td>\n",
       "      <td>1986</td>\n",
       "    </tr>\n",
       "    <tr>\n",
       "      <th>2</th>\n",
       "      <td>15000000.0</td>\n",
       "      <td>Paramount Pictures</td>\n",
       "      <td>Action</td>\n",
       "      <td>179800601.0</td>\n",
       "      <td>Top Gun</td>\n",
       "      <td>110</td>\n",
       "      <td>1.0</td>\n",
       "      <td>1986</td>\n",
       "    </tr>\n",
       "    <tr>\n",
       "      <th>3</th>\n",
       "      <td>18500000.0</td>\n",
       "      <td>Twentieth Century Fox Film Corporation</td>\n",
       "      <td>Action</td>\n",
       "      <td>85160248.0</td>\n",
       "      <td>Aliens</td>\n",
       "      <td>137</td>\n",
       "      <td>1.0</td>\n",
       "      <td>1986</td>\n",
       "    </tr>\n",
       "    <tr>\n",
       "      <th>4</th>\n",
       "      <td>9000000.0</td>\n",
       "      <td>Walt Disney Pictures</td>\n",
       "      <td>Adventure</td>\n",
       "      <td>18564613.0</td>\n",
       "      <td>Flight of the Navigator</td>\n",
       "      <td>90</td>\n",
       "      <td>1.0</td>\n",
       "      <td>1986</td>\n",
       "    </tr>\n",
       "  </tbody>\n",
       "</table>\n",
       "</div>"
      ],
      "text/plain": [
       "       budget                                 company      genre        gross  \\\n",
       "0   8000000.0           Columbia Pictures Corporation  Adventure   52287414.0   \n",
       "1   6000000.0                      Paramount Pictures     Comedy   70136369.0   \n",
       "2  15000000.0                      Paramount Pictures     Action  179800601.0   \n",
       "3  18500000.0  Twentieth Century Fox Film Corporation     Action   85160248.0   \n",
       "4   9000000.0                    Walt Disney Pictures  Adventure   18564613.0   \n",
       "\n",
       "                       name  runtime  score  year  \n",
       "0               Stand by Me       89    1.0  1986  \n",
       "1  Ferris Bueller's Day Off      103    1.0  1986  \n",
       "2                   Top Gun      110    1.0  1986  \n",
       "3                    Aliens      137    1.0  1986  \n",
       "4   Flight of the Navigator       90    1.0  1986  "
      ]
     },
     "execution_count": 9,
     "metadata": {},
     "output_type": "execute_result"
    }
   ],
   "source": [
    "movies.head()"
   ]
  },
  {
   "cell_type": "code",
   "execution_count": 10,
   "metadata": {},
   "outputs": [],
   "source": [
    "#Doing OneHotEncoder for genre labels, this allows genres to be in zeros and ones so we can use them as features\n",
    "#since they are no longer strings\n",
    "encoder = OneHotEncoder()\n",
    "genre = movies['genre']\n",
    "genre_np = genre.to_numpy()\n",
    "genre_ary = encoder.fit_transform(genre_np.reshape(-1,1)).toarray()"
   ]
  },
  {
   "cell_type": "code",
   "execution_count": 11,
   "metadata": {
    "scrolled": false
   },
   "outputs": [],
   "source": [
    "genre_df = pd.DataFrame(genre_ary)"
   ]
  },
  {
   "cell_type": "code",
   "execution_count": 12,
   "metadata": {},
   "outputs": [],
   "source": [
    "genre_df = genre_df.rename({0:'Action', 1:'Adventure', 2:'Animation', 3:'Biography', 4:'Comedy', 5:'Crime', \n",
    "                            6:'Drama', 7:'Family', 8:'Fantasy', 9:'Horror', 10:'Musical', 11:'Mystery', 12:'Romance', \n",
    "                            13:'Sci-Fi', 14:'Thriller', 15:'War', 16:'Western'}, axis = 1)"
   ]
  },
  {
   "cell_type": "code",
   "execution_count": 13,
   "metadata": {
    "scrolled": false
   },
   "outputs": [
    {
     "data": {
      "text/html": [
       "<div>\n",
       "<style scoped>\n",
       "    .dataframe tbody tr th:only-of-type {\n",
       "        vertical-align: middle;\n",
       "    }\n",
       "\n",
       "    .dataframe tbody tr th {\n",
       "        vertical-align: top;\n",
       "    }\n",
       "\n",
       "    .dataframe thead th {\n",
       "        text-align: right;\n",
       "    }\n",
       "</style>\n",
       "<table border=\"1\" class=\"dataframe\">\n",
       "  <thead>\n",
       "    <tr style=\"text-align: right;\">\n",
       "      <th></th>\n",
       "      <th>budget</th>\n",
       "      <th>company</th>\n",
       "      <th>genre</th>\n",
       "      <th>gross</th>\n",
       "      <th>name</th>\n",
       "      <th>runtime</th>\n",
       "      <th>score</th>\n",
       "      <th>year</th>\n",
       "      <th>Action</th>\n",
       "      <th>Adventure</th>\n",
       "      <th>...</th>\n",
       "      <th>Family</th>\n",
       "      <th>Fantasy</th>\n",
       "      <th>Horror</th>\n",
       "      <th>Musical</th>\n",
       "      <th>Mystery</th>\n",
       "      <th>Romance</th>\n",
       "      <th>Sci-Fi</th>\n",
       "      <th>Thriller</th>\n",
       "      <th>War</th>\n",
       "      <th>Western</th>\n",
       "    </tr>\n",
       "  </thead>\n",
       "  <tbody>\n",
       "    <tr>\n",
       "      <th>0</th>\n",
       "      <td>8000000.0</td>\n",
       "      <td>Columbia Pictures Corporation</td>\n",
       "      <td>Adventure</td>\n",
       "      <td>52287414.0</td>\n",
       "      <td>Stand by Me</td>\n",
       "      <td>89</td>\n",
       "      <td>1.0</td>\n",
       "      <td>1986</td>\n",
       "      <td>0.0</td>\n",
       "      <td>1.0</td>\n",
       "      <td>...</td>\n",
       "      <td>0.0</td>\n",
       "      <td>0.0</td>\n",
       "      <td>0.0</td>\n",
       "      <td>0.0</td>\n",
       "      <td>0.0</td>\n",
       "      <td>0.0</td>\n",
       "      <td>0.0</td>\n",
       "      <td>0.0</td>\n",
       "      <td>0.0</td>\n",
       "      <td>0.0</td>\n",
       "    </tr>\n",
       "    <tr>\n",
       "      <th>1</th>\n",
       "      <td>6000000.0</td>\n",
       "      <td>Paramount Pictures</td>\n",
       "      <td>Comedy</td>\n",
       "      <td>70136369.0</td>\n",
       "      <td>Ferris Bueller's Day Off</td>\n",
       "      <td>103</td>\n",
       "      <td>1.0</td>\n",
       "      <td>1986</td>\n",
       "      <td>0.0</td>\n",
       "      <td>0.0</td>\n",
       "      <td>...</td>\n",
       "      <td>0.0</td>\n",
       "      <td>0.0</td>\n",
       "      <td>0.0</td>\n",
       "      <td>0.0</td>\n",
       "      <td>0.0</td>\n",
       "      <td>0.0</td>\n",
       "      <td>0.0</td>\n",
       "      <td>0.0</td>\n",
       "      <td>0.0</td>\n",
       "      <td>0.0</td>\n",
       "    </tr>\n",
       "    <tr>\n",
       "      <th>2</th>\n",
       "      <td>15000000.0</td>\n",
       "      <td>Paramount Pictures</td>\n",
       "      <td>Action</td>\n",
       "      <td>179800601.0</td>\n",
       "      <td>Top Gun</td>\n",
       "      <td>110</td>\n",
       "      <td>1.0</td>\n",
       "      <td>1986</td>\n",
       "      <td>1.0</td>\n",
       "      <td>0.0</td>\n",
       "      <td>...</td>\n",
       "      <td>0.0</td>\n",
       "      <td>0.0</td>\n",
       "      <td>0.0</td>\n",
       "      <td>0.0</td>\n",
       "      <td>0.0</td>\n",
       "      <td>0.0</td>\n",
       "      <td>0.0</td>\n",
       "      <td>0.0</td>\n",
       "      <td>0.0</td>\n",
       "      <td>0.0</td>\n",
       "    </tr>\n",
       "    <tr>\n",
       "      <th>3</th>\n",
       "      <td>18500000.0</td>\n",
       "      <td>Twentieth Century Fox Film Corporation</td>\n",
       "      <td>Action</td>\n",
       "      <td>85160248.0</td>\n",
       "      <td>Aliens</td>\n",
       "      <td>137</td>\n",
       "      <td>1.0</td>\n",
       "      <td>1986</td>\n",
       "      <td>1.0</td>\n",
       "      <td>0.0</td>\n",
       "      <td>...</td>\n",
       "      <td>0.0</td>\n",
       "      <td>0.0</td>\n",
       "      <td>0.0</td>\n",
       "      <td>0.0</td>\n",
       "      <td>0.0</td>\n",
       "      <td>0.0</td>\n",
       "      <td>0.0</td>\n",
       "      <td>0.0</td>\n",
       "      <td>0.0</td>\n",
       "      <td>0.0</td>\n",
       "    </tr>\n",
       "    <tr>\n",
       "      <th>4</th>\n",
       "      <td>9000000.0</td>\n",
       "      <td>Walt Disney Pictures</td>\n",
       "      <td>Adventure</td>\n",
       "      <td>18564613.0</td>\n",
       "      <td>Flight of the Navigator</td>\n",
       "      <td>90</td>\n",
       "      <td>1.0</td>\n",
       "      <td>1986</td>\n",
       "      <td>0.0</td>\n",
       "      <td>1.0</td>\n",
       "      <td>...</td>\n",
       "      <td>0.0</td>\n",
       "      <td>0.0</td>\n",
       "      <td>0.0</td>\n",
       "      <td>0.0</td>\n",
       "      <td>0.0</td>\n",
       "      <td>0.0</td>\n",
       "      <td>0.0</td>\n",
       "      <td>0.0</td>\n",
       "      <td>0.0</td>\n",
       "      <td>0.0</td>\n",
       "    </tr>\n",
       "  </tbody>\n",
       "</table>\n",
       "<p>5 rows × 25 columns</p>\n",
       "</div>"
      ],
      "text/plain": [
       "       budget                                 company      genre        gross  \\\n",
       "0   8000000.0           Columbia Pictures Corporation  Adventure   52287414.0   \n",
       "1   6000000.0                      Paramount Pictures     Comedy   70136369.0   \n",
       "2  15000000.0                      Paramount Pictures     Action  179800601.0   \n",
       "3  18500000.0  Twentieth Century Fox Film Corporation     Action   85160248.0   \n",
       "4   9000000.0                    Walt Disney Pictures  Adventure   18564613.0   \n",
       "\n",
       "                       name  runtime  score  year  Action  Adventure  ...  \\\n",
       "0               Stand by Me       89    1.0  1986     0.0        1.0  ...   \n",
       "1  Ferris Bueller's Day Off      103    1.0  1986     0.0        0.0  ...   \n",
       "2                   Top Gun      110    1.0  1986     1.0        0.0  ...   \n",
       "3                    Aliens      137    1.0  1986     1.0        0.0  ...   \n",
       "4   Flight of the Navigator       90    1.0  1986     0.0        1.0  ...   \n",
       "\n",
       "   Family  Fantasy  Horror  Musical  Mystery  Romance  Sci-Fi  Thriller  War  \\\n",
       "0     0.0      0.0     0.0      0.0      0.0      0.0     0.0       0.0  0.0   \n",
       "1     0.0      0.0     0.0      0.0      0.0      0.0     0.0       0.0  0.0   \n",
       "2     0.0      0.0     0.0      0.0      0.0      0.0     0.0       0.0  0.0   \n",
       "3     0.0      0.0     0.0      0.0      0.0      0.0     0.0       0.0  0.0   \n",
       "4     0.0      0.0     0.0      0.0      0.0      0.0     0.0       0.0  0.0   \n",
       "\n",
       "   Western  \n",
       "0      0.0  \n",
       "1      0.0  \n",
       "2      0.0  \n",
       "3      0.0  \n",
       "4      0.0  \n",
       "\n",
       "[5 rows x 25 columns]"
      ]
     },
     "execution_count": 13,
     "metadata": {},
     "output_type": "execute_result"
    }
   ],
   "source": [
    "movies_encoded = pd.concat([movies, genre_df], axis =1)\n",
    "movies_encoded.head() #OneHotEncoder worked"
   ]
  },
  {
   "cell_type": "code",
   "execution_count": 14,
   "metadata": {
    "scrolled": true
   },
   "outputs": [
    {
     "data": {
      "text/html": [
       "<div>\n",
       "<style scoped>\n",
       "    .dataframe tbody tr th:only-of-type {\n",
       "        vertical-align: middle;\n",
       "    }\n",
       "\n",
       "    .dataframe tbody tr th {\n",
       "        vertical-align: top;\n",
       "    }\n",
       "\n",
       "    .dataframe thead th {\n",
       "        text-align: right;\n",
       "    }\n",
       "</style>\n",
       "<table border=\"1\" class=\"dataframe\">\n",
       "  <thead>\n",
       "    <tr style=\"text-align: right;\">\n",
       "      <th></th>\n",
       "      <th>budget</th>\n",
       "      <th>gross</th>\n",
       "      <th>runtime</th>\n",
       "      <th>score</th>\n",
       "      <th>year</th>\n",
       "      <th>Action</th>\n",
       "      <th>Adventure</th>\n",
       "      <th>Animation</th>\n",
       "      <th>Biography</th>\n",
       "      <th>Comedy</th>\n",
       "      <th>...</th>\n",
       "      <th>Family</th>\n",
       "      <th>Fantasy</th>\n",
       "      <th>Horror</th>\n",
       "      <th>Musical</th>\n",
       "      <th>Mystery</th>\n",
       "      <th>Romance</th>\n",
       "      <th>Sci-Fi</th>\n",
       "      <th>Thriller</th>\n",
       "      <th>War</th>\n",
       "      <th>Western</th>\n",
       "    </tr>\n",
       "  </thead>\n",
       "  <tbody>\n",
       "    <tr>\n",
       "      <th>0</th>\n",
       "      <td>8000000.0</td>\n",
       "      <td>52287414.0</td>\n",
       "      <td>89</td>\n",
       "      <td>1.0</td>\n",
       "      <td>1986</td>\n",
       "      <td>0.0</td>\n",
       "      <td>1.0</td>\n",
       "      <td>0.0</td>\n",
       "      <td>0.0</td>\n",
       "      <td>0.0</td>\n",
       "      <td>...</td>\n",
       "      <td>0.0</td>\n",
       "      <td>0.0</td>\n",
       "      <td>0.0</td>\n",
       "      <td>0.0</td>\n",
       "      <td>0.0</td>\n",
       "      <td>0.0</td>\n",
       "      <td>0.0</td>\n",
       "      <td>0.0</td>\n",
       "      <td>0.0</td>\n",
       "      <td>0.0</td>\n",
       "    </tr>\n",
       "    <tr>\n",
       "      <th>1</th>\n",
       "      <td>6000000.0</td>\n",
       "      <td>70136369.0</td>\n",
       "      <td>103</td>\n",
       "      <td>1.0</td>\n",
       "      <td>1986</td>\n",
       "      <td>0.0</td>\n",
       "      <td>0.0</td>\n",
       "      <td>0.0</td>\n",
       "      <td>0.0</td>\n",
       "      <td>1.0</td>\n",
       "      <td>...</td>\n",
       "      <td>0.0</td>\n",
       "      <td>0.0</td>\n",
       "      <td>0.0</td>\n",
       "      <td>0.0</td>\n",
       "      <td>0.0</td>\n",
       "      <td>0.0</td>\n",
       "      <td>0.0</td>\n",
       "      <td>0.0</td>\n",
       "      <td>0.0</td>\n",
       "      <td>0.0</td>\n",
       "    </tr>\n",
       "    <tr>\n",
       "      <th>2</th>\n",
       "      <td>15000000.0</td>\n",
       "      <td>179800601.0</td>\n",
       "      <td>110</td>\n",
       "      <td>1.0</td>\n",
       "      <td>1986</td>\n",
       "      <td>1.0</td>\n",
       "      <td>0.0</td>\n",
       "      <td>0.0</td>\n",
       "      <td>0.0</td>\n",
       "      <td>0.0</td>\n",
       "      <td>...</td>\n",
       "      <td>0.0</td>\n",
       "      <td>0.0</td>\n",
       "      <td>0.0</td>\n",
       "      <td>0.0</td>\n",
       "      <td>0.0</td>\n",
       "      <td>0.0</td>\n",
       "      <td>0.0</td>\n",
       "      <td>0.0</td>\n",
       "      <td>0.0</td>\n",
       "      <td>0.0</td>\n",
       "    </tr>\n",
       "    <tr>\n",
       "      <th>3</th>\n",
       "      <td>18500000.0</td>\n",
       "      <td>85160248.0</td>\n",
       "      <td>137</td>\n",
       "      <td>1.0</td>\n",
       "      <td>1986</td>\n",
       "      <td>1.0</td>\n",
       "      <td>0.0</td>\n",
       "      <td>0.0</td>\n",
       "      <td>0.0</td>\n",
       "      <td>0.0</td>\n",
       "      <td>...</td>\n",
       "      <td>0.0</td>\n",
       "      <td>0.0</td>\n",
       "      <td>0.0</td>\n",
       "      <td>0.0</td>\n",
       "      <td>0.0</td>\n",
       "      <td>0.0</td>\n",
       "      <td>0.0</td>\n",
       "      <td>0.0</td>\n",
       "      <td>0.0</td>\n",
       "      <td>0.0</td>\n",
       "    </tr>\n",
       "    <tr>\n",
       "      <th>4</th>\n",
       "      <td>9000000.0</td>\n",
       "      <td>18564613.0</td>\n",
       "      <td>90</td>\n",
       "      <td>1.0</td>\n",
       "      <td>1986</td>\n",
       "      <td>0.0</td>\n",
       "      <td>1.0</td>\n",
       "      <td>0.0</td>\n",
       "      <td>0.0</td>\n",
       "      <td>0.0</td>\n",
       "      <td>...</td>\n",
       "      <td>0.0</td>\n",
       "      <td>0.0</td>\n",
       "      <td>0.0</td>\n",
       "      <td>0.0</td>\n",
       "      <td>0.0</td>\n",
       "      <td>0.0</td>\n",
       "      <td>0.0</td>\n",
       "      <td>0.0</td>\n",
       "      <td>0.0</td>\n",
       "      <td>0.0</td>\n",
       "    </tr>\n",
       "  </tbody>\n",
       "</table>\n",
       "<p>5 rows × 22 columns</p>\n",
       "</div>"
      ],
      "text/plain": [
       "       budget        gross  runtime  score  year  Action  Adventure  \\\n",
       "0   8000000.0   52287414.0       89    1.0  1986     0.0        1.0   \n",
       "1   6000000.0   70136369.0      103    1.0  1986     0.0        0.0   \n",
       "2  15000000.0  179800601.0      110    1.0  1986     1.0        0.0   \n",
       "3  18500000.0   85160248.0      137    1.0  1986     1.0        0.0   \n",
       "4   9000000.0   18564613.0       90    1.0  1986     0.0        1.0   \n",
       "\n",
       "   Animation  Biography  Comedy  ...  Family  Fantasy  Horror  Musical  \\\n",
       "0        0.0        0.0     0.0  ...     0.0      0.0     0.0      0.0   \n",
       "1        0.0        0.0     1.0  ...     0.0      0.0     0.0      0.0   \n",
       "2        0.0        0.0     0.0  ...     0.0      0.0     0.0      0.0   \n",
       "3        0.0        0.0     0.0  ...     0.0      0.0     0.0      0.0   \n",
       "4        0.0        0.0     0.0  ...     0.0      0.0     0.0      0.0   \n",
       "\n",
       "   Mystery  Romance  Sci-Fi  Thriller  War  Western  \n",
       "0      0.0      0.0     0.0       0.0  0.0      0.0  \n",
       "1      0.0      0.0     0.0       0.0  0.0      0.0  \n",
       "2      0.0      0.0     0.0       0.0  0.0      0.0  \n",
       "3      0.0      0.0     0.0       0.0  0.0      0.0  \n",
       "4      0.0      0.0     0.0       0.0  0.0      0.0  \n",
       "\n",
       "[5 rows x 22 columns]"
      ]
     },
     "execution_count": 14,
     "metadata": {},
     "output_type": "execute_result"
    }
   ],
   "source": [
    "cleaned_df = movies_encoded.drop(columns=['genre', 'company', 'name'], axis=1)\n",
    "cleaned_df.head() #Cleaned dataframe ready for modeling"
   ]
  },
  {
   "cell_type": "markdown",
   "metadata": {},
   "source": [
    "## Visualizing feature spaces"
   ]
  },
  {
   "cell_type": "code",
   "execution_count": 15,
   "metadata": {},
   "outputs": [
    {
     "data": {
      "image/png": "[encoded data removed]",
      "text/plain": [
       "<Figure size 720x504 with 3 Axes>"
      ]
     },
     "metadata": {
      "needs_background": "light"
     },
     "output_type": "display_data"
    }
   ],
   "source": [
    "##Visualizing features to see if there are any patterns present before we start modeling\n",
    "features = cleaned_df.drop(columns=['score'], axis =1)\n",
    "labels = cleaned_df['score']\n",
    "\n",
    "plt.figure(figsize=(10,7))\n",
    "plt.subplot(321)\n",
    "plt.scatter(features['budget'], features['gross'], c=labels)\n",
    "plt.xlabel('Movie Budget')\n",
    "plt.ylabel('Movie Gross')\n",
    "plt.title('Budget vs. Gross')\n",
    "\n",
    "plt.subplot(322)\n",
    "plt.scatter(features['runtime'], features['gross'], c=labels)\n",
    "plt.xlabel('Movie Runtime')\n",
    "plt.ylabel('Movie Gross')\n",
    "plt.title('Runtime vs. Gross')\n",
    "\n",
    "plt.subplot(323)\n",
    "plt.scatter(features['year'], features['gross'], c=labels)\n",
    "plt.xlabel('Release Year')\n",
    "plt.ylabel('Movie Gross')\n",
    "plt.title('Release Year vs. Gross')\n",
    "\n",
    "plt.tight_layout()"
   ]
  },
  {
   "cell_type": "markdown",
   "metadata": {},
   "source": [
    "This is pretty hard to interpret. We can try scaling the features next to see if the visualization with be a little better than what is shown above. In previous In-class assignments, we have scaled features to be able to interpret and work with their visualizations in a much easier way. We will test this with our data next and see if it changes anything."
   ]
  },
  {
   "cell_type": "code",
   "execution_count": 16,
   "metadata": {},
   "outputs": [],
   "source": [
    "scaler = StandardScaler()\n",
    "features_scaled = scaler.fit_transform(features)"
   ]
  },
  {
   "cell_type": "code",
   "execution_count": 17,
   "metadata": {},
   "outputs": [],
   "source": [
    "features_scaled = pd.DataFrame(features)"
   ]
  },
  {
   "cell_type": "code",
   "execution_count": 18,
   "metadata": {},
   "outputs": [
    {
     "data": {
      "image/png": "[encoded data removed]",
      "text/plain": [
       "<Figure size 720x504 with 3 Axes>"
      ]
     },
     "metadata": {
      "needs_background": "light"
     },
     "output_type": "display_data"
    }
   ],
   "source": [
    "##Attempting the same visualization with scaled features\n",
    "plt.figure(figsize=(10,7))\n",
    "plt.subplot(321)\n",
    "plt.scatter(features_scaled.iloc[:, 0], features_scaled.iloc[:, 1], c=labels)\n",
    "plt.xlabel('Movie Budget')\n",
    "plt.ylabel('Movie Gross')\n",
    "plt.title('Budget vs. Gross')\n",
    "\n",
    "plt.subplot(322)\n",
    "plt.scatter(features_scaled.iloc[:, 2], features_scaled.iloc[:, 1], c=labels)\n",
    "plt.xlabel('Movie Runtime')\n",
    "plt.ylabel('Movie Gross')\n",
    "plt.title('Runtime vs. Gross')\n",
    "\n",
    "plt.subplot(323)\n",
    "plt.scatter(features_scaled.iloc[:, 4], features_scaled.iloc[:, 1], c=labels)\n",
    "plt.xlabel('Release Year')\n",
    "plt.ylabel('Movie Gross')\n",
    "plt.title('Release Year vs. Gross')\n",
    "\n",
    "plt.tight_layout()"
   ]
  },
  {
   "cell_type": "markdown",
   "metadata": {},
   "source": [
    "As we can see above, scaling the features did little to help us visualize the relationship between the features. It still is just as hard to interpret the visualization with scaled features as it was before the features were scaled. Now below just to see more visualizations, we can test the plots of the OneHotEncoder columns that we created for the different movie genres. "
   ]
  },
  {
   "cell_type": "code",
   "execution_count": 19,
   "metadata": {},
   "outputs": [
    {
     "data": {
      "image/png": "[encoded data removed]",
      "text/plain": [
       "<Figure size 720x504 with 3 Axes>"
      ]
     },
     "metadata": {
      "needs_background": "light"
     },
     "output_type": "display_data"
    }
   ],
   "source": [
    "##Attempting to visualize OneHotEncoder columns \n",
    "#For this visualization we chose features that might seem to having overlapping genres, perhaps this might influence\n",
    "# their ratings/score\n",
    "plt.figure(figsize=(10,7))\n",
    "plt.subplot(321)\n",
    "plt.scatter(features['Action'], features['Adventure'], c=labels)\n",
    "plt.xlabel('Action')\n",
    "plt.ylabel('Adventure')\n",
    "plt.title('Action vs. Adventure')\n",
    "\n",
    "plt.subplot(322)\n",
    "plt.scatter(features['Comedy'], features['Romance'], c=labels)\n",
    "plt.xlabel('Comedy')\n",
    "plt.ylabel('Romance')\n",
    "plt.title('Comedy vs. Romance')\n",
    "\n",
    "plt.subplot(323)\n",
    "plt.scatter(features['Horror'], features['Mystery'], c=labels)\n",
    "plt.xlabel('Horror')\n",
    "plt.ylabel('Mystery')\n",
    "plt.title('Horror vs. Mystery')\n",
    "\n",
    "plt.tight_layout()"
   ]
  },
  {
   "cell_type": "markdown",
   "metadata": {},
   "source": [
    "Due to the fact that there is only one genre associated with each movie, it makes it a lot harder to visualize the data in this manner. Perhaps if we did a heatmap of the correlations it might be easier to identify if there are any columns in the dataset that might have correlations with one another. "
   ]
  },
  {
   "cell_type": "code",
   "execution_count": 20,
   "metadata": {},
   "outputs": [
    {
     "data": {
      "text/plain": [
       "<matplotlib.axes._subplots.AxesSubplot at 0x119739f40>"
      ]
     },
     "execution_count": 20,
     "metadata": {},
     "output_type": "execute_result"
    },
    {
     "data": {
      "image/png": "[encoded data removed]",
      "text/plain": [
       "<Figure size 432x288 with 2 Axes>"
      ]
     },
     "metadata": {
      "needs_background": "light"
     },
     "output_type": "display_data"
    }
   ],
   "source": [
    "sns.heatmap(features.corr())"
   ]
  },
  {
   "cell_type": "markdown",
   "metadata": {},
   "source": [
    "Based on the color hue indicator on the right hand side of the figure we can see at a glance that none of the features have higher than 0.2 of a positive correlation with another given column. Some higher correlations present in the heatmap might be between runtime and gross as well as gross and year. But, as we saw in the feature space visualizations above, it's very difficult to be able to see any correlations or relationships between the features in the plots. "
   ]
  },
  {
   "cell_type": "markdown",
   "metadata": {},
   "source": [
    "## Logistic Regression"
   ]
  },
  {
   "cell_type": "code",
   "execution_count": 21,
   "metadata": {},
   "outputs": [],
   "source": [
    "# splitting the data, using 75% for training the model, random state is set for reproducibility\n",
    "train_features, test_features, train_labels, test_labels = train_test_split(features, labels, \n",
    "                                                                            train_size = 0.75, random_state = 1)"
   ]
  },
  {
   "cell_type": "markdown",
   "metadata": {},
   "source": [
    "With the training and testing sets of data, a logistic model is made to try and predict whether a movie was liked or disliked. First, the logistic model is found by passing the classes and features for the training data into the Logit function from the statsmodels package. A constant is added to the training features for this model. Next, the model results of the model can be viewed once it is fitted. Then the test features can be be passed in to get the predictions from the fitted model. Finally, these predictions are matched up with the actual likes and dislikes to evaluate the performance of the model. If the predicted values were above 0.5, then they were classified as liked. Otherwise, they were dislikes."
   ]
  },
  {
   "cell_type": "code",
   "execution_count": 22,
   "metadata": {},
   "outputs": [
    {
     "name": "stdout",
     "output_type": "stream",
     "text": [
      "Warning: Maximum number of iterations has been exceeded.\n",
      "         Current function value: 0.585748\n",
      "         Iterations: 35\n",
      "                           Logit Regression Results                           \n",
      "==============================================================================\n",
      "Dep. Variable:                  score   No. Observations:                 5115\n",
      "Model:                          Logit   Df Residuals:                     5112\n",
      "Method:                           MLE   Df Model:                            2\n",
      "Date:                Wed, 09 Dec 2020   Pseudo R-squ.:                  0.1509\n",
      "Time:                        19:50:22   Log-Likelihood:                -2996.1\n",
      "converged:                      False   LL-Null:                       -3528.6\n",
      "Covariance Type:            nonrobust   LLR p-value:                5.509e-232\n",
      "==============================================================================\n",
      "                 coef    std err          z      P>|z|      [0.025      0.975]\n",
      "------------------------------------------------------------------------------\n",
      "const        -18.0698   1.42e+06  -1.27e-05      1.000   -2.79e+06    2.79e+06\n",
      "budget      -8.63e-16   3.66e-16     -2.356      0.018   -1.58e-15   -1.45e-16\n",
      "gross       3.236e-09   7.25e-10      4.462      0.000    1.81e-09    4.66e-09\n",
      "runtime        0.0446      0.003     17.273      0.000       0.040       0.050\n",
      "year           0.0077      0.004      2.137      0.033       0.001       0.015\n",
      "Action        -2.5915   1.42e+06  -1.82e-06      1.000   -2.79e+06    2.79e+06\n",
      "Adventure     -1.9409   1.42e+06  -1.37e-06      1.000   -2.79e+06    2.79e+06\n",
      "Animation     -0.7636   1.42e+06  -5.37e-07      1.000   -2.79e+06    2.79e+06\n",
      "Biography     -0.4033   1.42e+06  -2.84e-07      1.000   -2.79e+06    2.79e+06\n",
      "Comedy        -2.0736   1.42e+06  -1.46e-06      1.000   -2.79e+06    2.79e+06\n",
      "Crime         -1.3827   1.42e+06  -9.73e-07      1.000   -2.79e+06    2.79e+06\n",
      "Drama         -1.3143   1.42e+06  -9.25e-07      1.000   -2.79e+06    2.79e+06\n",
      "Family        -2.5032   1.42e+06  -1.76e-06      1.000   -2.79e+06    2.79e+06\n",
      "Fantasy       -2.6329   1.42e+06  -1.85e-06      1.000   -2.79e+06    2.79e+06\n",
      "Horror        -3.0386   1.42e+06  -2.14e-06      1.000   -2.79e+06    2.79e+06\n",
      "Musical       -3.8688   1.42e+06  -2.72e-06      1.000   -2.79e+06    2.79e+06\n",
      "Mystery       -1.6892   1.42e+06  -1.19e-06      1.000   -2.79e+06    2.79e+06\n",
      "Romance       -1.9875   1.42e+06   -1.4e-06      1.000   -2.79e+06    2.79e+06\n",
      "Sci-Fi        -3.1026   1.42e+06  -2.18e-06      1.000   -2.79e+06    2.79e+06\n",
      "Thriller      -2.6071   1.42e+06  -1.83e-06      1.000   -2.79e+06    2.79e+06\n",
      "War           -1.8141   1.42e+06  -1.28e-06      1.000   -2.79e+06    2.79e+06\n",
      "Western       15.6443   1.42e+06    1.1e-05      1.000   -2.79e+06    2.79e+06\n",
      "==============================================================================\n",
      "The accuracy of the model is 0.6627565982404692\n"
     ]
    },
    {
     "name": "stderr",
     "output_type": "stream",
     "text": [
      "/Users/Bella/opt/anaconda3/lib/python3.8/site-packages/statsmodels/base/model.py:567: ConvergenceWarning: Maximum Likelihood optimization failed to converge. Check mle_retvals\n",
      "  warn(\"Maximum Likelihood optimization failed to converge. \"\n"
     ]
    }
   ],
   "source": [
    "# creating the logistic regression model, adding a constant variable to the features\n",
    "logit_model = sm.Logit(train_labels, sm.add_constant(train_features))\n",
    "\n",
    "# fitting and evaluating the trained model\n",
    "result = logit_model.fit()\n",
    "print(result.summary())\n",
    "\n",
    "temp = []\n",
    "b = result.predict(sm.add_constant(test_features)) # have to loop through the results and sort the classes\n",
    "for i in b:\n",
    "    if i > 0.5: # if the prediction is higher than 0.5 then it is a like\n",
    "        temp.append(1)\n",
    "    else:\n",
    "        temp.append(0)\n",
    "\n",
    "print(\"The accuracy of the model is\", accuracy_score(y_pred = temp,y_true= test_labels))\n",
    "# accuracy of my model"
   ]
  },
  {
   "cell_type": "markdown",
   "metadata": {},
   "source": [
    "From the results, it is evident that the accuracy of the model was not the best but it is significantly better than if the model was just left to chance. About 66% of movies were correctly guessed to have been liked or disliked. From the summary of the model, it seems that gross, runtime, budget, and year are significant in predicting movie likes. Also, one can see by the p-values that the genre categories and the constant were not very significant in the model. A simplified model can be made to try and increase accuracy without these insignificant features. After reducing the feature set and splitting the data into training and testing sets again, one can follow the previous methods to create the reduced logistic model."
   ]
  },
  {
   "cell_type": "code",
   "execution_count": 23,
   "metadata": {},
   "outputs": [
    {
     "name": "stdout",
     "output_type": "stream",
     "text": [
      "Optimization terminated successfully.\n",
      "         Current function value: 0.627141\n",
      "         Iterations 5\n",
      "                           Logit Regression Results                           \n",
      "==============================================================================\n",
      "Dep. Variable:                  score   No. Observations:                 5115\n",
      "Model:                          Logit   Df Residuals:                     5112\n",
      "Method:                           MLE   Df Model:                            2\n",
      "Date:                Wed, 09 Dec 2020   Pseudo R-squ.:                 0.09091\n",
      "Time:                        19:50:22   Log-Likelihood:                -3207.8\n",
      "converged:                       True   LL-Null:                       -3528.6\n",
      "Covariance Type:            nonrobust   LLR p-value:                4.924e-140\n",
      "==============================================================================\n",
      "                 coef    std err          z      P>|z|      [0.025      0.975]\n",
      "------------------------------------------------------------------------------\n",
      "budget     -1.073e-15    3.5e-16     -3.069      0.002   -1.76e-15   -3.88e-16\n",
      "gross       2.598e-09   6.37e-10      4.080      0.000    1.35e-09    3.85e-09\n",
      "runtime        0.0474      0.002     20.621      0.000       0.043       0.052\n",
      "year          -0.0024      0.000    -20.465      0.000      -0.003      -0.002\n",
      "==============================================================================\n",
      "The accuracy of the new model is 0.6498533724340176\n"
     ]
    }
   ],
   "source": [
    "# dropping high p value features to make a reduced model\n",
    "features2 = features.drop(columns = ['Action', 'Adventure', 'Animation', 'Biography', 'Comedy', 'Crime', \n",
    "                            'Drama', 'Family', 'Fantasy', 'Horror', 'Musical', 'Mystery', 'Romance', \n",
    "                            'Sci-Fi', 'Thriller', 'War', 'Western'])\n",
    "\n",
    "\n",
    "# splitting data again, sets of data and classes for training and testing\n",
    "train_features2, test_features2, train_labels2, test_labels2 = train_test_split(features2, labels, \n",
    "                                                                                train_size = 0.75, random_state = 1)\n",
    "\n",
    "\n",
    "logit_model2 = sm.Logit(train_labels2, train_features2) # my logistic model with the new training data, no constant\n",
    "\n",
    "\n",
    "results2 = logit_model2.fit() # fitting the new model\n",
    "\n",
    "temp2 = []\n",
    "b = results2.predict(test_features2) # have to loop through the results and sort the classes\n",
    "for i in b:\n",
    "    if i > 0.5: # same threshold as before\n",
    "        temp2.append(1)\n",
    "    else:\n",
    "        temp2.append(0)\n",
    "\n",
    "        \n",
    "print(results2.summary()) # printing the new results\n",
    "print(\"The accuracy of the new model is\", accuracy_score(y_pred = temp2,y_true= test_labels2))\n",
    "# accuracy of my model"
   ]
  },
  {
   "cell_type": "markdown",
   "metadata": {},
   "source": [
    "After reducing the model, it can be seen that the accuracy dropped a little, although it is nearly the same value as the full model."
   ]
  },
  {
   "cell_type": "markdown",
   "metadata": {},
   "source": [
    "## KNN Classifier"
   ]
  },
  {
   "cell_type": "code",
   "execution_count": 24,
   "metadata": {},
   "outputs": [
    {
     "data": {
      "text/html": [
       "<div>\n",
       "<style scoped>\n",
       "    .dataframe tbody tr th:only-of-type {\n",
       "        vertical-align: middle;\n",
       "    }\n",
       "\n",
       "    .dataframe tbody tr th {\n",
       "        vertical-align: top;\n",
       "    }\n",
       "\n",
       "    .dataframe thead th {\n",
       "        text-align: right;\n",
       "    }\n",
       "</style>\n",
       "<table border=\"1\" class=\"dataframe\">\n",
       "  <thead>\n",
       "    <tr style=\"text-align: right;\">\n",
       "      <th></th>\n",
       "      <th>budget</th>\n",
       "      <th>gross</th>\n",
       "      <th>runtime</th>\n",
       "      <th>year</th>\n",
       "      <th>Action</th>\n",
       "      <th>Adventure</th>\n",
       "      <th>Animation</th>\n",
       "      <th>Biography</th>\n",
       "      <th>Comedy</th>\n",
       "      <th>Crime</th>\n",
       "      <th>...</th>\n",
       "      <th>Family</th>\n",
       "      <th>Fantasy</th>\n",
       "      <th>Horror</th>\n",
       "      <th>Musical</th>\n",
       "      <th>Mystery</th>\n",
       "      <th>Romance</th>\n",
       "      <th>Sci-Fi</th>\n",
       "      <th>Thriller</th>\n",
       "      <th>War</th>\n",
       "      <th>Western</th>\n",
       "    </tr>\n",
       "  </thead>\n",
       "  <tbody>\n",
       "    <tr>\n",
       "      <th>count</th>\n",
       "      <td>6.820000e+03</td>\n",
       "      <td>6.820000e+03</td>\n",
       "      <td>6.820000e+03</td>\n",
       "      <td>6.820000e+03</td>\n",
       "      <td>6.820000e+03</td>\n",
       "      <td>6.820000e+03</td>\n",
       "      <td>6.820000e+03</td>\n",
       "      <td>6.820000e+03</td>\n",
       "      <td>6.820000e+03</td>\n",
       "      <td>6.820000e+03</td>\n",
       "      <td>...</td>\n",
       "      <td>6.820000e+03</td>\n",
       "      <td>6.820000e+03</td>\n",
       "      <td>6.820000e+03</td>\n",
       "      <td>6.820000e+03</td>\n",
       "      <td>6.820000e+03</td>\n",
       "      <td>6.820000e+03</td>\n",
       "      <td>6.820000e+03</td>\n",
       "      <td>6.820000e+03</td>\n",
       "      <td>6.820000e+03</td>\n",
       "      <td>6.820000e+03</td>\n",
       "    </tr>\n",
       "    <tr>\n",
       "      <th>mean</th>\n",
       "      <td>1.143188e-16</td>\n",
       "      <td>-9.562243e-17</td>\n",
       "      <td>1.020852e-16</td>\n",
       "      <td>1.946524e-14</td>\n",
       "      <td>7.120567e-16</td>\n",
       "      <td>-4.417288e-17</td>\n",
       "      <td>3.515590e-15</td>\n",
       "      <td>6.228970e-15</td>\n",
       "      <td>3.531584e-15</td>\n",
       "      <td>2.685698e-16</td>\n",
       "      <td>...</td>\n",
       "      <td>-1.761724e-15</td>\n",
       "      <td>-3.094344e-15</td>\n",
       "      <td>9.536116e-16</td>\n",
       "      <td>-2.395343e-17</td>\n",
       "      <td>-8.199738e-16</td>\n",
       "      <td>-1.295028e-15</td>\n",
       "      <td>1.412543e-16</td>\n",
       "      <td>-2.175050e-15</td>\n",
       "      <td>4.438501e-16</td>\n",
       "      <td>-5.016301e-16</td>\n",
       "    </tr>\n",
       "    <tr>\n",
       "      <th>std</th>\n",
       "      <td>1.000073e+00</td>\n",
       "      <td>1.000073e+00</td>\n",
       "      <td>1.000073e+00</td>\n",
       "      <td>1.000073e+00</td>\n",
       "      <td>1.000073e+00</td>\n",
       "      <td>1.000073e+00</td>\n",
       "      <td>1.000073e+00</td>\n",
       "      <td>1.000073e+00</td>\n",
       "      <td>1.000073e+00</td>\n",
       "      <td>1.000073e+00</td>\n",
       "      <td>...</td>\n",
       "      <td>1.000073e+00</td>\n",
       "      <td>1.000073e+00</td>\n",
       "      <td>1.000073e+00</td>\n",
       "      <td>1.000073e+00</td>\n",
       "      <td>1.000073e+00</td>\n",
       "      <td>1.000073e+00</td>\n",
       "      <td>1.000073e+00</td>\n",
       "      <td>1.000073e+00</td>\n",
       "      <td>1.000073e+00</td>\n",
       "      <td>1.000073e+00</td>\n",
       "    </tr>\n",
       "    <tr>\n",
       "      <th>min</th>\n",
       "      <td>-2.549259e-01</td>\n",
       "      <td>-5.756288e-01</td>\n",
       "      <td>-3.137059e+00</td>\n",
       "      <td>-1.677164e+00</td>\n",
       "      <td>-4.924276e-01</td>\n",
       "      <td>-2.469478e-01</td>\n",
       "      <td>-2.057555e-01</td>\n",
       "      <td>-2.357205e-01</td>\n",
       "      <td>-6.624338e-01</td>\n",
       "      <td>-2.878949e-01</td>\n",
       "      <td>...</td>\n",
       "      <td>-4.535426e-02</td>\n",
       "      <td>-6.866004e-02</td>\n",
       "      <td>-2.057555e-01</td>\n",
       "      <td>-2.422508e-02</td>\n",
       "      <td>-7.485364e-02</td>\n",
       "      <td>-4.694956e-02</td>\n",
       "      <td>-4.370124e-02</td>\n",
       "      <td>-5.144201e-02</td>\n",
       "      <td>-1.712721e-02</td>\n",
       "      <td>-1.712721e-02</td>\n",
       "    </tr>\n",
       "    <tr>\n",
       "      <th>25%</th>\n",
       "      <td>-2.549257e-01</td>\n",
       "      <td>-5.495817e-01</td>\n",
       "      <td>-6.407839e-01</td>\n",
       "      <td>-8.945026e-01</td>\n",
       "      <td>-4.924276e-01</td>\n",
       "      <td>-2.469478e-01</td>\n",
       "      <td>-2.057555e-01</td>\n",
       "      <td>-2.357205e-01</td>\n",
       "      <td>-6.624338e-01</td>\n",
       "      <td>-2.878949e-01</td>\n",
       "      <td>...</td>\n",
       "      <td>-4.535426e-02</td>\n",
       "      <td>-6.866004e-02</td>\n",
       "      <td>-2.057555e-01</td>\n",
       "      <td>-2.422508e-02</td>\n",
       "      <td>-7.485364e-02</td>\n",
       "      <td>-4.694956e-02</td>\n",
       "      <td>-4.370124e-02</td>\n",
       "      <td>-5.144201e-02</td>\n",
       "      <td>-1.712721e-02</td>\n",
       "      <td>-1.712721e-02</td>\n",
       "    </tr>\n",
       "    <tr>\n",
       "      <th>50%</th>\n",
       "      <td>-2.549254e-01</td>\n",
       "      <td>-3.670893e-01</td>\n",
       "      <td>-2.524744e-01</td>\n",
       "      <td>-3.278848e-05</td>\n",
       "      <td>-4.924276e-01</td>\n",
       "      <td>-2.469478e-01</td>\n",
       "      <td>-2.057555e-01</td>\n",
       "      <td>-2.357205e-01</td>\n",
       "      <td>-6.624338e-01</td>\n",
       "      <td>-2.878949e-01</td>\n",
       "      <td>...</td>\n",
       "      <td>-4.535426e-02</td>\n",
       "      <td>-6.866004e-02</td>\n",
       "      <td>-2.057555e-01</td>\n",
       "      <td>-2.422508e-02</td>\n",
       "      <td>-7.485364e-02</td>\n",
       "      <td>-4.694956e-02</td>\n",
       "      <td>-4.370124e-02</td>\n",
       "      <td>-5.144201e-02</td>\n",
       "      <td>-1.712721e-02</td>\n",
       "      <td>-1.712721e-02</td>\n",
       "    </tr>\n",
       "    <tr>\n",
       "      <th>75%</th>\n",
       "      <td>-2.301307e-01</td>\n",
       "      <td>1.128568e-01</td>\n",
       "      <td>4.686718e-01</td>\n",
       "      <td>8.944370e-01</td>\n",
       "      <td>-4.924276e-01</td>\n",
       "      <td>-2.469478e-01</td>\n",
       "      <td>-2.057555e-01</td>\n",
       "      <td>-2.357205e-01</td>\n",
       "      <td>1.509585e+00</td>\n",
       "      <td>-2.878949e-01</td>\n",
       "      <td>...</td>\n",
       "      <td>-4.535426e-02</td>\n",
       "      <td>-6.866004e-02</td>\n",
       "      <td>-2.057555e-01</td>\n",
       "      <td>-2.422508e-02</td>\n",
       "      <td>-7.485364e-02</td>\n",
       "      <td>-4.694956e-02</td>\n",
       "      <td>-4.370124e-02</td>\n",
       "      <td>-5.144201e-02</td>\n",
       "      <td>-1.712721e-02</td>\n",
       "      <td>-1.712721e-02</td>\n",
       "    </tr>\n",
       "    <tr>\n",
       "      <th>max</th>\n",
       "      <td>3.460740e+01</td>\n",
       "      <td>1.552007e+01</td>\n",
       "      <td>1.439234e+01</td>\n",
       "      <td>1.677098e+00</td>\n",
       "      <td>2.030755e+00</td>\n",
       "      <td>4.049439e+00</td>\n",
       "      <td>4.860138e+00</td>\n",
       "      <td>4.242312e+00</td>\n",
       "      <td>1.509585e+00</td>\n",
       "      <td>3.473490e+00</td>\n",
       "      <td>...</td>\n",
       "      <td>2.204865e+01</td>\n",
       "      <td>1.456451e+01</td>\n",
       "      <td>4.860138e+00</td>\n",
       "      <td>4.127953e+01</td>\n",
       "      <td>1.335940e+01</td>\n",
       "      <td>2.129945e+01</td>\n",
       "      <td>2.288264e+01</td>\n",
       "      <td>1.943936e+01</td>\n",
       "      <td>5.838664e+01</td>\n",
       "      <td>5.838664e+01</td>\n",
       "    </tr>\n",
       "  </tbody>\n",
       "</table>\n",
       "<p>8 rows × 21 columns</p>\n",
       "</div>"
      ],
      "text/plain": [
       "             budget         gross       runtime          year        Action  \\\n",
       "count  6.820000e+03  6.820000e+03  6.820000e+03  6.820000e+03  6.820000e+03   \n",
       "mean   1.143188e-16 -9.562243e-17  1.020852e-16  1.946524e-14  7.120567e-16   \n",
       "std    1.000073e+00  1.000073e+00  1.000073e+00  1.000073e+00  1.000073e+00   \n",
       "min   -2.549259e-01 -5.756288e-01 -3.137059e+00 -1.677164e+00 -4.924276e-01   \n",
       "25%   -2.549257e-01 -5.495817e-01 -6.407839e-01 -8.945026e-01 -4.924276e-01   \n",
       "50%   -2.549254e-01 -3.670893e-01 -2.524744e-01 -3.278848e-05 -4.924276e-01   \n",
       "75%   -2.301307e-01  1.128568e-01  4.686718e-01  8.944370e-01 -4.924276e-01   \n",
       "max    3.460740e+01  1.552007e+01  1.439234e+01  1.677098e+00  2.030755e+00   \n",
       "\n",
       "          Adventure     Animation     Biography        Comedy         Crime  \\\n",
       "count  6.820000e+03  6.820000e+03  6.820000e+03  6.820000e+03  6.820000e+03   \n",
       "mean  -4.417288e-17  3.515590e-15  6.228970e-15  3.531584e-15  2.685698e-16   \n",
       "std    1.000073e+00  1.000073e+00  1.000073e+00  1.000073e+00  1.000073e+00   \n",
       "min   -2.469478e-01 -2.057555e-01 -2.357205e-01 -6.624338e-01 -2.878949e-01   \n",
       "25%   -2.469478e-01 -2.057555e-01 -2.357205e-01 -6.624338e-01 -2.878949e-01   \n",
       "50%   -2.469478e-01 -2.057555e-01 -2.357205e-01 -6.624338e-01 -2.878949e-01   \n",
       "75%   -2.469478e-01 -2.057555e-01 -2.357205e-01  1.509585e+00 -2.878949e-01   \n",
       "max    4.049439e+00  4.860138e+00  4.242312e+00  1.509585e+00  3.473490e+00   \n",
       "\n",
       "       ...        Family       Fantasy        Horror       Musical  \\\n",
       "count  ...  6.820000e+03  6.820000e+03  6.820000e+03  6.820000e+03   \n",
       "mean   ... -1.761724e-15 -3.094344e-15  9.536116e-16 -2.395343e-17   \n",
       "std    ...  1.000073e+00  1.000073e+00  1.000073e+00  1.000073e+00   \n",
       "min    ... -4.535426e-02 -6.866004e-02 -2.057555e-01 -2.422508e-02   \n",
       "25%    ... -4.535426e-02 -6.866004e-02 -2.057555e-01 -2.422508e-02   \n",
       "50%    ... -4.535426e-02 -6.866004e-02 -2.057555e-01 -2.422508e-02   \n",
       "75%    ... -4.535426e-02 -6.866004e-02 -2.057555e-01 -2.422508e-02   \n",
       "max    ...  2.204865e+01  1.456451e+01  4.860138e+00  4.127953e+01   \n",
       "\n",
       "            Mystery       Romance        Sci-Fi      Thriller           War  \\\n",
       "count  6.820000e+03  6.820000e+03  6.820000e+03  6.820000e+03  6.820000e+03   \n",
       "mean  -8.199738e-16 -1.295028e-15  1.412543e-16 -2.175050e-15  4.438501e-16   \n",
       "std    1.000073e+00  1.000073e+00  1.000073e+00  1.000073e+00  1.000073e+00   \n",
       "min   -7.485364e-02 -4.694956e-02 -4.370124e-02 -5.144201e-02 -1.712721e-02   \n",
       "25%   -7.485364e-02 -4.694956e-02 -4.370124e-02 -5.144201e-02 -1.712721e-02   \n",
       "50%   -7.485364e-02 -4.694956e-02 -4.370124e-02 -5.144201e-02 -1.712721e-02   \n",
       "75%   -7.485364e-02 -4.694956e-02 -4.370124e-02 -5.144201e-02 -1.712721e-02   \n",
       "max    1.335940e+01  2.129945e+01  2.288264e+01  1.943936e+01  5.838664e+01   \n",
       "\n",
       "            Western  \n",
       "count  6.820000e+03  \n",
       "mean  -5.016301e-16  \n",
       "std    1.000073e+00  \n",
       "min   -1.712721e-02  \n",
       "25%   -1.712721e-02  \n",
       "50%   -1.712721e-02  \n",
       "75%   -1.712721e-02  \n",
       "max    5.838664e+01  \n",
       "\n",
       "[8 rows x 21 columns]"
      ]
     },
     "execution_count": 24,
     "metadata": {},
     "output_type": "execute_result"
    }
   ],
   "source": [
    "cols = features.columns\n",
    "\n",
    "scaler = StandardScaler() #scale the data\n",
    "features = scaler.fit_transform(features)\n",
    "features = pd.DataFrame(features, columns = cols)\n",
    "features.describe()"
   ]
  },
  {
   "cell_type": "code",
   "execution_count": 25,
   "metadata": {},
   "outputs": [],
   "source": [
    "train_features, test_features, train_labels, test_labels = train_test_split(features,labels, random_state = 1,\n",
    "                                                                            train_size = .75)"
   ]
  },
  {
   "cell_type": "code",
   "execution_count": 26,
   "metadata": {},
   "outputs": [
    {
     "name": "stdout",
     "output_type": "stream",
     "text": [
      "[[473 312]\n",
      " [322 598]]\n",
      "0.6281524926686217\n",
      "auc: 0.6262738853503185\n"
     ]
    },
    {
     "data": {
      "image/png": "[encoded data removed]",
      "text/plain": [
       "<Figure size 432x288 with 1 Axes>"
      ]
     },
     "metadata": {
      "needs_background": "light"
     },
     "output_type": "display_data"
    }
   ],
   "source": [
    "knn = KNeighborsClassifier(n_neighbors = 3) #creates the classifier with the neighbors #\n",
    "fit = knn.fit(train_features,train_labels) #fits the training data\n",
    "pred = fit.predict(test_features) #predicts the test data\n",
    "\n",
    "print(confusion_matrix(test_labels, pred)) #evaluate the model with the confusion matrix, now using the test\n",
    "print(accuracy_score(test_labels,pred)) #evaluate the model with the accuracy score, now using the test\n",
    "\n",
    "\n",
    "fpr, tpr, thresholds = roc_curve(test_labels,pred)\n",
    "plt.plot(fpr,tpr, \"mx-\",)\n",
    "plt.plot([0, 1], [0, 1],'c--')\n",
    "plt.xlabel(\"FPR\") #false positive rate\n",
    "plt.ylabel(\"TPR\") #true positive rate\n",
    "\n",
    "auc = roc_auc_score(test_labels, pred) #area under the curve; closer to 1 the better\n",
    "print(\"auc:\",auc)"
   ]
  },
  {
   "cell_type": "markdown",
   "metadata": {},
   "source": [
    "The KNN classifier shows a fairly low accuracy in predicting the movie likes and dislikes based on the scoring data. The confusion matrix shows about 379 false positives predicitons, the number of predictions that were falsely catagorized as a 'liked' movie, and 369 false negatives, the number of predicaitons falsely catagorized as dislikes. Additionally, the ROC cuve shows a line only slighly greater than .5, meaning the predictions are just a little better than a guess. Based on these results, the KNN may not be the best classifier for the scored data."
   ]
  },
  {
   "cell_type": "markdown",
   "metadata": {},
   "source": [
    "## SVM with RBF kernel"
   ]
  },
  {
   "cell_type": "code",
   "execution_count": 27,
   "metadata": {},
   "outputs": [
    {
     "name": "stdout",
     "output_type": "stream",
     "text": [
      "0.5612903225806452\n",
      "[[ 72 713]\n",
      " [ 35 885]]\n",
      "auc: 0.5268381334810303\n"
     ]
    },
    {
     "data": {
      "image/png": "[encoded data removed]",
      "text/plain": [
       "<Figure size 432x288 with 1 Axes>"
      ]
     },
     "metadata": {
      "needs_background": "light"
     },
     "output_type": "display_data"
    }
   ],
   "source": [
    "svc_linear = SVC(C = .1, kernel = 'rbf', gamma = 10) \n",
    "svc_linear.fit(train_features, train_labels) \n",
    "pred2 = svc_linear.predict(test_features) \n",
    "\n",
    "\n",
    "print(accuracy_score(test_labels,pred2))\n",
    "print(confusion_matrix(test_labels,pred2))\n",
    "\n",
    "\n",
    "fpr, tpr, thresholds = roc_curve(test_labels,pred2) \n",
    "plt.plot(fpr,tpr, \"mx-\")\n",
    "plt.plot([0, 1], [0, 1],'c--')\n",
    "plt.xlabel(\"FPR\")\n",
    "plt.ylabel(\"TPR\")\n",
    "\n",
    "auc = roc_auc_score(test_labels, pred2)\n",
    "print(\"auc:\",auc)"
   ]
  },
  {
   "cell_type": "markdown",
   "metadata": {},
   "source": [
    "As shown above our ROC curve is the same as the chance line and our AUC is .5. So for an SVC with default parameters and an rbf kernel, the classification of movie likes and dislikes is as accurate as guessing."
   ]
  },
  {
   "cell_type": "markdown",
   "metadata": {},
   "source": [
    "## Random Forest"
   ]
  },
  {
   "cell_type": "code",
   "execution_count": 28,
   "metadata": {},
   "outputs": [],
   "source": [
    "#not using the scaled data\n",
    "train_feature, test_feature, train_label, test_label = train_test_split(features,labels, random_state = 1,\n",
    "                                                                            train_size = .75)"
   ]
  },
  {
   "cell_type": "code",
   "execution_count": 29,
   "metadata": {},
   "outputs": [
    {
     "name": "stdout",
     "output_type": "stream",
     "text": [
      "0.6680351906158358\n",
      "[[449 336]\n",
      " [230 690]]\n",
      "auc: 0.6609872611464969\n"
     ]
    },
    {
     "data": {
      "image/png": "[encoded data removed]",
      "text/plain": [
       "<Figure size 432x288 with 1 Axes>"
      ]
     },
     "metadata": {
      "needs_background": "light"
     },
     "output_type": "display_data"
    }
   ],
   "source": [
    "x,y = make_classification()\n",
    "forest = RandomForestClassifier(max_depth=2, random_state=1)\n",
    "forest.fit(train_feature, train_label) \n",
    "pred3 = forest.predict(test_feature) \n",
    "\n",
    "\n",
    "print(accuracy_score(test_label,pred3))\n",
    "print(confusion_matrix(test_label,pred3))\n",
    "\n",
    "\n",
    "fpr, tpr, thresholds = roc_curve(test_label,pred3) \n",
    "plt.plot(fpr,tpr, \"mx-\")\n",
    "plt.plot([0, 1], [0, 1],'c--')\n",
    "plt.xlabel(\"FPR\")\n",
    "plt.ylabel(\"TPR\")\n",
    "\n",
    "auc = roc_auc_score(test_label, pred3)\n",
    "print(\"auc:\",auc)"
   ]
  },
  {
   "cell_type": "markdown",
   "metadata": {},
   "source": [
    "The Random forest classifier is used to make up for the failure of the SVM. The random forest is better able to handle the binarized data. The Random forest classifier uses a number of decision trees to settle on a single result or classification . Each decision tree creates subsections of the data based on its features, and these subsections are then used to predict new values. This model showed an accuracy score of about 62%, with the area under the ROC curve being 0.61. The model also reports about 456 false positives and 189 false negatives. Overall, this is not the most ideal accuracy however the random forest does show more reasonable results than the SVM."
   ]
  },
  {
   "cell_type": "markdown",
   "metadata": {},
   "source": [
    "## Grid Search CV"
   ]
  },
  {
   "cell_type": "code",
   "execution_count": 30,
   "metadata": {},
   "outputs": [
    {
     "data": {
      "text/html": [
       "<div>\n",
       "<style scoped>\n",
       "    .dataframe tbody tr th:only-of-type {\n",
       "        vertical-align: middle;\n",
       "    }\n",
       "\n",
       "    .dataframe tbody tr th {\n",
       "        vertical-align: top;\n",
       "    }\n",
       "\n",
       "    .dataframe thead th {\n",
       "        text-align: right;\n",
       "    }\n",
       "</style>\n",
       "<table border=\"1\" class=\"dataframe\">\n",
       "  <thead>\n",
       "    <tr style=\"text-align: right;\">\n",
       "      <th></th>\n",
       "      <th>budget</th>\n",
       "      <th>gross</th>\n",
       "      <th>runtime</th>\n",
       "      <th>score</th>\n",
       "      <th>year</th>\n",
       "      <th>Action</th>\n",
       "      <th>Adventure</th>\n",
       "      <th>Animation</th>\n",
       "      <th>Biography</th>\n",
       "      <th>Comedy</th>\n",
       "      <th>...</th>\n",
       "      <th>Family</th>\n",
       "      <th>Fantasy</th>\n",
       "      <th>Horror</th>\n",
       "      <th>Musical</th>\n",
       "      <th>Mystery</th>\n",
       "      <th>Romance</th>\n",
       "      <th>Sci-Fi</th>\n",
       "      <th>Thriller</th>\n",
       "      <th>War</th>\n",
       "      <th>Western</th>\n",
       "    </tr>\n",
       "  </thead>\n",
       "  <tbody>\n",
       "    <tr>\n",
       "      <th>0</th>\n",
       "      <td>8.000000e+06</td>\n",
       "      <td>52287414.0</td>\n",
       "      <td>89</td>\n",
       "      <td>1.0</td>\n",
       "      <td>1986</td>\n",
       "      <td>0.0</td>\n",
       "      <td>1.0</td>\n",
       "      <td>0.0</td>\n",
       "      <td>0.0</td>\n",
       "      <td>0.0</td>\n",
       "      <td>...</td>\n",
       "      <td>0.0</td>\n",
       "      <td>0.0</td>\n",
       "      <td>0.0</td>\n",
       "      <td>0.0</td>\n",
       "      <td>0.0</td>\n",
       "      <td>0.0</td>\n",
       "      <td>0.0</td>\n",
       "      <td>0.0</td>\n",
       "      <td>0.0</td>\n",
       "      <td>0.0</td>\n",
       "    </tr>\n",
       "    <tr>\n",
       "      <th>1</th>\n",
       "      <td>6.000000e+06</td>\n",
       "      <td>70136369.0</td>\n",
       "      <td>103</td>\n",
       "      <td>1.0</td>\n",
       "      <td>1986</td>\n",
       "      <td>0.0</td>\n",
       "      <td>0.0</td>\n",
       "      <td>0.0</td>\n",
       "      <td>0.0</td>\n",
       "      <td>1.0</td>\n",
       "      <td>...</td>\n",
       "      <td>0.0</td>\n",
       "      <td>0.0</td>\n",
       "      <td>0.0</td>\n",
       "      <td>0.0</td>\n",
       "      <td>0.0</td>\n",
       "      <td>0.0</td>\n",
       "      <td>0.0</td>\n",
       "      <td>0.0</td>\n",
       "      <td>0.0</td>\n",
       "      <td>0.0</td>\n",
       "    </tr>\n",
       "    <tr>\n",
       "      <th>2</th>\n",
       "      <td>1.500000e+07</td>\n",
       "      <td>179800601.0</td>\n",
       "      <td>110</td>\n",
       "      <td>1.0</td>\n",
       "      <td>1986</td>\n",
       "      <td>1.0</td>\n",
       "      <td>0.0</td>\n",
       "      <td>0.0</td>\n",
       "      <td>0.0</td>\n",
       "      <td>0.0</td>\n",
       "      <td>...</td>\n",
       "      <td>0.0</td>\n",
       "      <td>0.0</td>\n",
       "      <td>0.0</td>\n",
       "      <td>0.0</td>\n",
       "      <td>0.0</td>\n",
       "      <td>0.0</td>\n",
       "      <td>0.0</td>\n",
       "      <td>0.0</td>\n",
       "      <td>0.0</td>\n",
       "      <td>0.0</td>\n",
       "    </tr>\n",
       "    <tr>\n",
       "      <th>3</th>\n",
       "      <td>1.850000e+07</td>\n",
       "      <td>85160248.0</td>\n",
       "      <td>137</td>\n",
       "      <td>1.0</td>\n",
       "      <td>1986</td>\n",
       "      <td>1.0</td>\n",
       "      <td>0.0</td>\n",
       "      <td>0.0</td>\n",
       "      <td>0.0</td>\n",
       "      <td>0.0</td>\n",
       "      <td>...</td>\n",
       "      <td>0.0</td>\n",
       "      <td>0.0</td>\n",
       "      <td>0.0</td>\n",
       "      <td>0.0</td>\n",
       "      <td>0.0</td>\n",
       "      <td>0.0</td>\n",
       "      <td>0.0</td>\n",
       "      <td>0.0</td>\n",
       "      <td>0.0</td>\n",
       "      <td>0.0</td>\n",
       "    </tr>\n",
       "    <tr>\n",
       "      <th>4</th>\n",
       "      <td>9.000000e+06</td>\n",
       "      <td>18564613.0</td>\n",
       "      <td>90</td>\n",
       "      <td>1.0</td>\n",
       "      <td>1986</td>\n",
       "      <td>0.0</td>\n",
       "      <td>1.0</td>\n",
       "      <td>0.0</td>\n",
       "      <td>0.0</td>\n",
       "      <td>0.0</td>\n",
       "      <td>...</td>\n",
       "      <td>0.0</td>\n",
       "      <td>0.0</td>\n",
       "      <td>0.0</td>\n",
       "      <td>0.0</td>\n",
       "      <td>0.0</td>\n",
       "      <td>0.0</td>\n",
       "      <td>0.0</td>\n",
       "      <td>0.0</td>\n",
       "      <td>0.0</td>\n",
       "      <td>0.0</td>\n",
       "    </tr>\n",
       "    <tr>\n",
       "      <th>...</th>\n",
       "      <td>...</td>\n",
       "      <td>...</td>\n",
       "      <td>...</td>\n",
       "      <td>...</td>\n",
       "      <td>...</td>\n",
       "      <td>...</td>\n",
       "      <td>...</td>\n",
       "      <td>...</td>\n",
       "      <td>...</td>\n",
       "      <td>...</td>\n",
       "      <td>...</td>\n",
       "      <td>...</td>\n",
       "      <td>...</td>\n",
       "      <td>...</td>\n",
       "      <td>...</td>\n",
       "      <td>...</td>\n",
       "      <td>...</td>\n",
       "      <td>...</td>\n",
       "      <td>...</td>\n",
       "      <td>...</td>\n",
       "      <td>...</td>\n",
       "    </tr>\n",
       "    <tr>\n",
       "      <th>6815</th>\n",
       "      <td>4.467577e+13</td>\n",
       "      <td>4750497.0</td>\n",
       "      <td>91</td>\n",
       "      <td>0.0</td>\n",
       "      <td>2016</td>\n",
       "      <td>0.0</td>\n",
       "      <td>0.0</td>\n",
       "      <td>0.0</td>\n",
       "      <td>0.0</td>\n",
       "      <td>1.0</td>\n",
       "      <td>...</td>\n",
       "      <td>0.0</td>\n",
       "      <td>0.0</td>\n",
       "      <td>0.0</td>\n",
       "      <td>0.0</td>\n",
       "      <td>0.0</td>\n",
       "      <td>0.0</td>\n",
       "      <td>0.0</td>\n",
       "      <td>0.0</td>\n",
       "      <td>0.0</td>\n",
       "      <td>0.0</td>\n",
       "    </tr>\n",
       "    <tr>\n",
       "      <th>6816</th>\n",
       "      <td>2.667852e+11</td>\n",
       "      <td>28368.0</td>\n",
       "      <td>90</td>\n",
       "      <td>0.0</td>\n",
       "      <td>2016</td>\n",
       "      <td>0.0</td>\n",
       "      <td>0.0</td>\n",
       "      <td>0.0</td>\n",
       "      <td>0.0</td>\n",
       "      <td>0.0</td>\n",
       "      <td>...</td>\n",
       "      <td>0.0</td>\n",
       "      <td>0.0</td>\n",
       "      <td>0.0</td>\n",
       "      <td>0.0</td>\n",
       "      <td>0.0</td>\n",
       "      <td>0.0</td>\n",
       "      <td>0.0</td>\n",
       "      <td>0.0</td>\n",
       "      <td>0.0</td>\n",
       "      <td>0.0</td>\n",
       "    </tr>\n",
       "    <tr>\n",
       "      <th>6817</th>\n",
       "      <td>3.500000e+06</td>\n",
       "      <td>3775000.0</td>\n",
       "      <td>76</td>\n",
       "      <td>1.0</td>\n",
       "      <td>2016</td>\n",
       "      <td>0.0</td>\n",
       "      <td>0.0</td>\n",
       "      <td>1.0</td>\n",
       "      <td>0.0</td>\n",
       "      <td>0.0</td>\n",
       "      <td>...</td>\n",
       "      <td>0.0</td>\n",
       "      <td>0.0</td>\n",
       "      <td>0.0</td>\n",
       "      <td>0.0</td>\n",
       "      <td>0.0</td>\n",
       "      <td>0.0</td>\n",
       "      <td>0.0</td>\n",
       "      <td>0.0</td>\n",
       "      <td>0.0</td>\n",
       "      <td>0.0</td>\n",
       "    </tr>\n",
       "    <tr>\n",
       "      <th>6818</th>\n",
       "      <td>2.443368e+11</td>\n",
       "      <td>25981.0</td>\n",
       "      <td>76</td>\n",
       "      <td>0.0</td>\n",
       "      <td>2016</td>\n",
       "      <td>0.0</td>\n",
       "      <td>0.0</td>\n",
       "      <td>0.0</td>\n",
       "      <td>0.0</td>\n",
       "      <td>0.0</td>\n",
       "      <td>...</td>\n",
       "      <td>0.0</td>\n",
       "      <td>0.0</td>\n",
       "      <td>0.0</td>\n",
       "      <td>0.0</td>\n",
       "      <td>0.0</td>\n",
       "      <td>0.0</td>\n",
       "      <td>0.0</td>\n",
       "      <td>0.0</td>\n",
       "      <td>0.0</td>\n",
       "      <td>0.0</td>\n",
       "    </tr>\n",
       "    <tr>\n",
       "      <th>6819</th>\n",
       "      <td>3.550835e+11</td>\n",
       "      <td>37757.0</td>\n",
       "      <td>120</td>\n",
       "      <td>1.0</td>\n",
       "      <td>2016</td>\n",
       "      <td>0.0</td>\n",
       "      <td>0.0</td>\n",
       "      <td>0.0</td>\n",
       "      <td>0.0</td>\n",
       "      <td>0.0</td>\n",
       "      <td>...</td>\n",
       "      <td>0.0</td>\n",
       "      <td>0.0</td>\n",
       "      <td>0.0</td>\n",
       "      <td>0.0</td>\n",
       "      <td>0.0</td>\n",
       "      <td>0.0</td>\n",
       "      <td>0.0</td>\n",
       "      <td>0.0</td>\n",
       "      <td>0.0</td>\n",
       "      <td>0.0</td>\n",
       "    </tr>\n",
       "  </tbody>\n",
       "</table>\n",
       "<p>6820 rows × 22 columns</p>\n",
       "</div>"
      ],
      "text/plain": [
       "            budget        gross  runtime  score  year  Action  Adventure  \\\n",
       "0     8.000000e+06   52287414.0       89    1.0  1986     0.0        1.0   \n",
       "1     6.000000e+06   70136369.0      103    1.0  1986     0.0        0.0   \n",
       "2     1.500000e+07  179800601.0      110    1.0  1986     1.0        0.0   \n",
       "3     1.850000e+07   85160248.0      137    1.0  1986     1.0        0.0   \n",
       "4     9.000000e+06   18564613.0       90    1.0  1986     0.0        1.0   \n",
       "...            ...          ...      ...    ...   ...     ...        ...   \n",
       "6815  4.467577e+13    4750497.0       91    0.0  2016     0.0        0.0   \n",
       "6816  2.667852e+11      28368.0       90    0.0  2016     0.0        0.0   \n",
       "6817  3.500000e+06    3775000.0       76    1.0  2016     0.0        0.0   \n",
       "6818  2.443368e+11      25981.0       76    0.0  2016     0.0        0.0   \n",
       "6819  3.550835e+11      37757.0      120    1.0  2016     0.0        0.0   \n",
       "\n",
       "      Animation  Biography  Comedy  ...  Family  Fantasy  Horror  Musical  \\\n",
       "0           0.0        0.0     0.0  ...     0.0      0.0     0.0      0.0   \n",
       "1           0.0        0.0     1.0  ...     0.0      0.0     0.0      0.0   \n",
       "2           0.0        0.0     0.0  ...     0.0      0.0     0.0      0.0   \n",
       "3           0.0        0.0     0.0  ...     0.0      0.0     0.0      0.0   \n",
       "4           0.0        0.0     0.0  ...     0.0      0.0     0.0      0.0   \n",
       "...         ...        ...     ...  ...     ...      ...     ...      ...   \n",
       "6815        0.0        0.0     1.0  ...     0.0      0.0     0.0      0.0   \n",
       "6816        0.0        0.0     0.0  ...     0.0      0.0     0.0      0.0   \n",
       "6817        1.0        0.0     0.0  ...     0.0      0.0     0.0      0.0   \n",
       "6818        0.0        0.0     0.0  ...     0.0      0.0     0.0      0.0   \n",
       "6819        0.0        0.0     0.0  ...     0.0      0.0     0.0      0.0   \n",
       "\n",
       "      Mystery  Romance  Sci-Fi  Thriller  War  Western  \n",
       "0         0.0      0.0     0.0       0.0  0.0      0.0  \n",
       "1         0.0      0.0     0.0       0.0  0.0      0.0  \n",
       "2         0.0      0.0     0.0       0.0  0.0      0.0  \n",
       "3         0.0      0.0     0.0       0.0  0.0      0.0  \n",
       "4         0.0      0.0     0.0       0.0  0.0      0.0  \n",
       "...       ...      ...     ...       ...  ...      ...  \n",
       "6815      0.0      0.0     0.0       0.0  0.0      0.0  \n",
       "6816      0.0      0.0     0.0       0.0  0.0      0.0  \n",
       "6817      0.0      0.0     0.0       0.0  0.0      0.0  \n",
       "6818      0.0      0.0     0.0       0.0  0.0      0.0  \n",
       "6819      0.0      0.0     0.0       0.0  0.0      0.0  \n",
       "\n",
       "[6820 rows x 22 columns]"
      ]
     },
     "execution_count": 30,
     "metadata": {},
     "output_type": "execute_result"
    }
   ],
   "source": [
    "#Create features and labels\n",
    "features = movies['score']\n",
    "labels = cleaned_df\n",
    "labels"
   ]
  },
  {
   "cell_type": "code",
   "execution_count": 31,
   "metadata": {},
   "outputs": [
    {
     "name": "stdout",
     "output_type": "stream",
     "text": [
      "5115 5115 1705 1705\n",
      "4007    1.0\n",
      "6467    1.0\n",
      "5411    0.0\n",
      "5553    0.0\n",
      "791     1.0\n",
      "       ... \n",
      "905     0.0\n",
      "5192    1.0\n",
      "3980    1.0\n",
      "235     1.0\n",
      "5157    0.0\n",
      "Name: score, Length: 5115, dtype: float64\n"
     ]
    }
   ],
   "source": [
    "#Split data!\n",
    "ltrain, ltest, ftrain, ftest = train_test_split(features, labels, random_state=1, train_size = .75)\n",
    "print(len(ftrain),len(ltrain),len(ftest),len(ltest))\n",
    "ltest.shape\n",
    "print(ltrain)"
   ]
  },
  {
   "cell_type": "code",
   "execution_count": 32,
   "metadata": {},
   "outputs": [
    {
     "name": "stdout",
     "output_type": "stream",
     "text": [
      "{'C': 1, 'gamma': 0.1, 'kernel': 'rbf'}\n"
     ]
    }
   ],
   "source": [
    "params = {'C': [1,10,100,1000], 'gamma': [.1,.01,.001,.0001], 'kernel':['rbf']}\n",
    "grid = GridSearchCV(SVC(),param_grid = params)\n",
    "grid.fit(ftrain,ltrain)\n",
    "grid_predictions = grid.predict(ftest)\n",
    "print(grid.best_params_)"
   ]
  },
  {
   "cell_type": "code",
   "execution_count": 33,
   "metadata": {},
   "outputs": [
    {
     "name": "stdout",
     "output_type": "stream",
     "text": [
      "[[  0 785]\n",
      " [  0 920]]               precision    recall  f1-score   support\n",
      "\n",
      "         0.0       0.00      0.00      0.00       785\n",
      "         1.0       0.54      1.00      0.70       920\n",
      "\n",
      "    accuracy                           0.54      1705\n",
      "   macro avg       0.27      0.50      0.35      1705\n",
      "weighted avg       0.29      0.54      0.38      1705\n",
      "\n"
     ]
    },
    {
     "name": "stderr",
     "output_type": "stream",
     "text": [
      "/Users/Bella/opt/anaconda3/lib/python3.8/site-packages/sklearn/metrics/_classification.py:1221: UndefinedMetricWarning: Precision and F-score are ill-defined and being set to 0.0 in labels with no predicted samples. Use `zero_division` parameter to control this behavior.\n",
      "  _warn_prf(average, modifier, msg_start, len(result))\n"
     ]
    }
   ],
   "source": [
    "params = {'C': [1], 'gamma': [.1], 'kernel':['rbf']}\n",
    "grid = GridSearchCV(SVC(),param_grid = params)\n",
    "grid.fit(ftrain,ltrain)\n",
    "grid_prediction = grid.predict(ftest)\n",
    "print(confusion_matrix(ltest,grid_prediction),classification_report(ltest,grid_prediction))"
   ]
  },
  {
   "cell_type": "markdown",
   "metadata": {},
   "source": [
    "## PCA"
   ]
  },
  {
   "cell_type": "code",
   "execution_count": 34,
   "metadata": {},
   "outputs": [],
   "source": [
    "features = cleaned_df.drop(columns=['score'], axis =1)\n",
    "labels = cleaned_df['score']"
   ]
  },
  {
   "cell_type": "code",
   "execution_count": 35,
   "metadata": {},
   "outputs": [],
   "source": [
    "train_vectors, test_vectors, train_labels, test_labels = train_test_split(features, labels, train_size =.75,\n",
    "                                                                         test_size = .25, random_state =1)"
   ]
  },
  {
   "cell_type": "markdown",
   "metadata": {},
   "source": [
    "We will first create a PCA model using kernel rbf along with C=10 and gamma=0.1. We will be using kernel = 'rbf' for our PCAs because this kernel works better with non-linear data and as we have shown in our feature space visualizations, our data does not seem to be following any sort of linear pattern. We will also includes 10 components for this PCA which is fewer than the number of features in our dataset."
   ]
  },
  {
   "cell_type": "code",
   "execution_count": 36,
   "metadata": {},
   "outputs": [],
   "source": [
    "##Creating and fiting PCA model, first using 10 components\n",
    "pca = PCA(n_components=10, whiten=True, random_state =1)\n",
    "pca = pca.fit(train_vectors)\n",
    "\n",
    "##Now transforming train and test vectors into PCA train and test vectors\n",
    "pca_train_vectors = pca.transform(train_vectors)\n",
    "pca_test_vectors = pca.transform(test_vectors)"
   ]
  },
  {
   "cell_type": "code",
   "execution_count": 37,
   "metadata": {},
   "outputs": [],
   "source": [
    "##Now fitting model using SVC with kernel rbf with C=10 and gamma=0.1\n",
    "pca_svm = SVC(kernel ='rbf', C=10, gamma = 0.1)\n",
    "pca_model = pca_svm.fit(pca_train_vectors, train_labels)\n",
    "pca_ypred = pca_model.predict(pca_test_vectors)"
   ]
  },
  {
   "cell_type": "code",
   "execution_count": 38,
   "metadata": {},
   "outputs": [
    {
     "name": "stdout",
     "output_type": "stream",
     "text": [
      "The confusion matrix is \n",
      " [[466 319]\n",
      " [243 677]]\n",
      "The classification report is \n",
      "               precision    recall  f1-score   support\n",
      "\n",
      "         0.0       0.66      0.59      0.62       785\n",
      "         1.0       0.68      0.74      0.71       920\n",
      "\n",
      "    accuracy                           0.67      1705\n",
      "   macro avg       0.67      0.66      0.67      1705\n",
      "weighted avg       0.67      0.67      0.67      1705\n",
      "\n",
      "The accuracy score is \n",
      " 0.6703812316715543\n"
     ]
    }
   ],
   "source": [
    "#Now printing metrics to look at accuracy of model\n",
    "print('The confusion matrix is \\n', confusion_matrix(test_labels, pca_ypred))\n",
    "print('The classification report is \\n', classification_report(test_labels, pca_ypred))\n",
    "print('The accuracy score is \\n', accuracy_score(test_labels, pca_ypred))"
   ]
  },
  {
   "cell_type": "markdown",
   "metadata": {},
   "source": [
    "Now, we will attempt to make a PCA that has the same number of components as features in our dataset. We will then see if the accuracy scores change at all with this change in number of components. We will keep the kernel as rbf as well as the same C and gamma values in the first PCA. "
   ]
  },
  {
   "cell_type": "code",
   "execution_count": 65,
   "metadata": {},
   "outputs": [],
   "source": [
    "##Creating and fiting PCA model, now using 21 components, which is equal to the number of features in our dataset\n",
    "pca = PCA(n_components=21, whiten=True, random_state =1)\n",
    "pca = pca.fit(train_vectors)\n",
    "\n",
    "##Now transforming train and test vectors into PCA train and test vectors\n",
    "pca_train_vectors = pca.transform(train_vectors)\n",
    "pca_test_vectors = pca.transform(test_vectors)"
   ]
  },
  {
   "cell_type": "code",
   "execution_count": 66,
   "metadata": {},
   "outputs": [],
   "source": [
    "##Now fitting model using SVC with kernel rbf with C=10 and gamma=0.1\n",
    "pca_svm = SVC(kernel ='rbf', C=10, gamma = 0.1)\n",
    "pca_model = pca_svm.fit(pca_train_vectors, train_labels)\n",
    "pca_ypred21 = pca_model.predict(pca_test_vectors)"
   ]
  },
  {
   "cell_type": "code",
   "execution_count": 41,
   "metadata": {},
   "outputs": [
    {
     "name": "stdout",
     "output_type": "stream",
     "text": [
      "The confusion matrix is \n",
      " [[473 312]\n",
      " [234 686]]\n",
      "The classification report is \n",
      "               precision    recall  f1-score   support\n",
      "\n",
      "         0.0       0.67      0.60      0.63       785\n",
      "         1.0       0.69      0.75      0.72       920\n",
      "\n",
      "    accuracy                           0.68      1705\n",
      "   macro avg       0.68      0.67      0.67      1705\n",
      "weighted avg       0.68      0.68      0.68      1705\n",
      "\n",
      "The accuracy score is \n",
      " 0.6797653958944282\n"
     ]
    }
   ],
   "source": [
    "#Now printing metrics to look at accuracy of model\n",
    "print('The confusion matrix is \\n', confusion_matrix(test_labels, pca_ypred21))\n",
    "print('The classification report is \\n', classification_report(test_labels, pca_ypred21))\n",
    "print('The accuracy score is \\n', accuracy_score(test_labels, pca_ypred21))"
   ]
  },
  {
   "cell_type": "code",
   "execution_count": 42,
   "metadata": {},
   "outputs": [
    {
     "name": "stdout",
     "output_type": "stream",
     "text": [
      "The accuracy score of the PCA with 10 components is \n",
      " 0.6703812316715543\n",
      "The accuracy score of the PCA with 21 components is \n",
      " 0.6797653958944282\n"
     ]
    }
   ],
   "source": [
    "print('The accuracy score of the PCA with 10 components is \\n', accuracy_score(test_labels, pca_ypred))\n",
    "print('The accuracy score of the PCA with 21 components is \\n', accuracy_score(test_labels, pca_ypred21))"
   ]
  },
  {
   "cell_type": "markdown",
   "metadata": {},
   "source": [
    "As we can see in the cell above, the accuracy score for both PCAs, one with 10 components and one with 21 components, are pretty much equal. If we look more closely we can see that the accuracy for 21 components is slightly higher than the accuracy for 10 components. This might indicate that we might need to use fewer components and to get a better accuracy since after 10 components the accuracies are relatively the same. Perhaps once we pass 10 components we might be overfitting the data, so it might be a good idea to try a PCA with fewer components, for example 4. The number of features that do not include the OneHotEncoder we did of the genres is four features, so maybe that would be a good number less than 10 that we could try."
   ]
  },
  {
   "cell_type": "code",
   "execution_count": 43,
   "metadata": {},
   "outputs": [],
   "source": [
    "#Trying a PCA with 4 components to see if we were overfitting with 10 components\n",
    "pca = PCA(n_components=4, whiten=True, random_state = 1)\n",
    "pca = pca.fit(train_vectors)\n",
    "\n",
    "##Now transforming train and test vectors into PCA train and test vectors\n",
    "pca_train_vectors = pca.transform(train_vectors)\n",
    "pca_test_vectors = pca.transform(test_vectors)"
   ]
  },
  {
   "cell_type": "code",
   "execution_count": 72,
   "metadata": {},
   "outputs": [],
   "source": [
    "##Now fitting model using SVC with kernel rbf with C=10 and gamma=0.1\n",
    "pca_svm = SVC(kernel ='rbf', C=10, gamma = 0.1)\n",
    "pca_model = pca_svm.fit(pca_train_vectors, train_labels)\n",
    "pca_ypred4 = pca_model.predict(pca_test_vectors)"
   ]
  },
  {
   "cell_type": "code",
   "execution_count": 73,
   "metadata": {},
   "outputs": [
    {
     "name": "stdout",
     "output_type": "stream",
     "text": [
      "The confusion matrix is \n",
      " [[473 312]\n",
      " [234 686]]\n",
      "The classification report is \n",
      "               precision    recall  f1-score   support\n",
      "\n",
      "         0.0       0.67      0.60      0.63       785\n",
      "         1.0       0.69      0.75      0.72       920\n",
      "\n",
      "    accuracy                           0.68      1705\n",
      "   macro avg       0.68      0.67      0.67      1705\n",
      "weighted avg       0.68      0.68      0.68      1705\n",
      "\n",
      "The accuracy score is \n",
      " 0.6797653958944282\n"
     ]
    }
   ],
   "source": [
    "#Now printing metrics to look at accuracy of model\n",
    "print('The confusion matrix is \\n', confusion_matrix(test_labels, pca_ypred4))\n",
    "print('The classification report is \\n', classification_report(test_labels, pca_ypred4))\n",
    "print('The accuracy score is \\n', accuracy_score(test_labels, pca_ypred4))"
   ]
  },
  {
   "cell_type": "code",
   "execution_count": 46,
   "metadata": {},
   "outputs": [
    {
     "name": "stdout",
     "output_type": "stream",
     "text": [
      "The accuracy score for a PCA with 4 components is \n",
      " 0.6703812316715543\n",
      "The accuracy score of the PCA with 10 components is \n",
      " 0.6703812316715543\n",
      "The accuracy score of the PCA with 21 components is \n",
      " 0.6797653958944282\n"
     ]
    }
   ],
   "source": [
    "print('The accuracy score for a PCA with 4 components is \\n', accuracy_score(test_labels, pca_ypred4))\n",
    "print('The accuracy score of the PCA with 10 components is \\n', accuracy_score(test_labels, pca_ypred))\n",
    "print('The accuracy score of the PCA with 21 components is \\n', accuracy_score(test_labels, pca_ypred21))"
   ]
  },
  {
   "cell_type": "markdown",
   "metadata": {},
   "source": [
    "This didn't work either. The accuracy with 4 components seems to be the same as the accuracy with 10 components. However, one interesting thing to look at is the confusion matrix for all three models. "
   ]
  },
  {
   "cell_type": "code",
   "execution_count": 47,
   "metadata": {
    "scrolled": false
   },
   "outputs": [
    {
     "name": "stdout",
     "output_type": "stream",
     "text": [
      "The confusion matrix for a PCA with 4 components is \n",
      " [[502 283]\n",
      " [279 641]]\n",
      "The confusion matrix for a PCA with 21 components is \n",
      " [[473 312]\n",
      " [234 686]]\n",
      "The confusion matrix for a PCA with 10 components is \n",
      " [[466 319]\n",
      " [243 677]]\n"
     ]
    }
   ],
   "source": [
    "print('The confusion matrix for a PCA with 4 components is \\n', confusion_matrix(test_labels, pca_ypred4))\n",
    "print('The confusion matrix for a PCA with 21 components is \\n', confusion_matrix(test_labels, pca_ypred21))\n",
    "print('The confusion matrix for a PCA with 10 components is \\n', confusion_matrix(test_labels, pca_ypred))"
   ]
  },
  {
   "cell_type": "markdown",
   "metadata": {},
   "source": [
    "As we can see above the confusion matrix has the higher accuracy of true positives for the PCA with 4 components and the lowest number of true positives for the PCA with 10 components. Overall, there are still a lot of false positives and false negatives present in all of the confusion matrices regardless of component number so we still have a really low accuracy for all versions of the PCA. One reason that we might have low accuracy in our models is because we have feature spaces that do not have positive correlations with one another, and therefore they do not have a strong relationship with one another. Since our dataset does not have strong relationships between different columns it would make it a lot harder to build an accurate model using the features that we currently have.  "
   ]
  },
  {
   "cell_type": "markdown",
   "metadata": {},
   "source": [
    "# POSSIBLE DELETION TOMORROW\n"
   ]
  },
  {
   "cell_type": "markdown",
   "metadata": {},
   "source": [
    "From a previous section of code, we were able to calculate the best possible parameters with GridSearch. The best parameters that were found were C=1, gamma =.1, and kernel ='rbf'. Now we can use these parameters for our PCA. In this case we will use PCA with 21 components because in comparison to the other PCAs the PCA with 21 components had the highest accuracy score and the second highest number of true positives in the confusion matrix. This is also the number of features that are present in our dataset."
   ]
  },
  {
   "cell_type": "code",
   "execution_count": 53,
   "metadata": {},
   "outputs": [],
   "source": [
    "#Trying a PCA with 21 components to test best parameters\n",
    "pca = PCA(n_components=21, whiten=True, random_state =1)\n",
    "pca = pca.fit(train_vectors)\n",
    "\n",
    "##Now transforming train and test vectors into PCA train and test vectors\n",
    "pca_train_vectors = pca.transform(train_vectors)\n",
    "pca_test_vectors = pca.transform(test_vectors)"
   ]
  },
  {
   "cell_type": "code",
   "execution_count": 54,
   "metadata": {},
   "outputs": [],
   "source": [
    "#Adjusting parameters to match calculated best parameters from GridSearch\n",
    "pca_svm = SVC(kernel ='rbf', C=1, gamma = 0.1)\n",
    "pca_model = pca_svm.fit(pca_train_vectors, train_labels)\n",
    "pca_ypred21_best = pca_model.predict(pca_test_vectors)"
   ]
  },
  {
   "cell_type": "code",
   "execution_count": 55,
   "metadata": {},
   "outputs": [
    {
     "name": "stdout",
     "output_type": "stream",
     "text": [
      "The confusion matrix is \n",
      " [[474 311]\n",
      " [251 669]]\n",
      "The classification report is \n",
      "               precision    recall  f1-score   support\n",
      "\n",
      "         0.0       0.65      0.60      0.63       785\n",
      "         1.0       0.68      0.73      0.70       920\n",
      "\n",
      "    accuracy                           0.67      1705\n",
      "   macro avg       0.67      0.67      0.67      1705\n",
      "weighted avg       0.67      0.67      0.67      1705\n",
      "\n",
      "The accuracy score is \n",
      " 0.6703812316715543\n"
     ]
    }
   ],
   "source": [
    "#Now printing metrics to look at accuracy of model\n",
    "print('The confusion matrix is \\n', confusion_matrix(test_labels, pca_ypred21_best))\n",
    "print('The classification report is \\n', classification_report(test_labels, pca_ypred21_best))\n",
    "print('The accuracy score is \\n', accuracy_score(test_labels, pca_ypred21_best))"
   ]
  },
  {
   "cell_type": "markdown",
   "metadata": {},
   "source": [
    "As we can see above, the accuracy for the model took a slight downturn in comparison to the previous SVC parameters. One thing that contrasts with the lower accuracy is that the number of true positives went up in the confusion matrix. Let's compare these metrics to the metrics of our PCA with 4 components that did not account for the best parameters."
   ]
  },
  {
   "cell_type": "code",
   "execution_count": 56,
   "metadata": {},
   "outputs": [
    {
     "name": "stdout",
     "output_type": "stream",
     "text": [
      "The confusion matrix with best parameters and 21 components is \n",
      " [[474 311]\n",
      " [251 669]]\n",
      "The confusion matrix with 21 components is \n",
      " [[473 312]\n",
      " [234 686]]\n",
      "The accuracy score with best parameters and 21 components is \n",
      " 0.6703812316715543\n",
      "The accuracy score with 21 components is \n",
      " 0.6797653958944282\n"
     ]
    }
   ],
   "source": [
    "print('The confusion matrix with best parameters and 21 components is \\n',\n",
    "      confusion_matrix(test_labels, pca_ypred21_best))\n",
    "print('The confusion matrix with 21 components is \\n', confusion_matrix(test_labels, pca_ypred21))\n",
    "print('The accuracy score with best parameters and 21 components is \\n',\n",
    "      accuracy_score(test_labels, pca_ypred21_best))\n",
    "print('The accuracy score with 21 components is \\n', accuracy_score(test_labels, pca_ypred21))"
   ]
  },
  {
   "cell_type": "code",
   "execution_count": 57,
   "metadata": {},
   "outputs": [
    {
     "name": "stdout",
     "output_type": "stream",
     "text": [
      "The drop in accuracy between the two PCAs is \n",
      " 0.009384\n",
      "The difference in confusion matrices between PCAs is \n",
      " [[  1  -1]\n",
      " [ 17 -17]]\n"
     ]
    }
   ],
   "source": [
    "drop_accuracy = accuracy_score(test_labels, pca_ypred21) - accuracy_score(test_labels, pca_ypred21_best)\n",
    "print('The drop in accuracy between the two PCAs is \\n', round(drop_accuracy, 6))\n",
    "diff_confusion = confusion_matrix(test_labels, pca_ypred21_best) - confusion_matrix(test_labels, pca_ypred21)\n",
    "print('The difference in confusion matrices between PCAs is \\n', diff_confusion)"
   ]
  },
  {
   "cell_type": "markdown",
   "metadata": {},
   "source": [
    "As we can see here, there was a slight drop in accuracy in the model. The drop in accuracy was around .009384 which is pretty close to 0. This means our best parameters model did worse than the default parameters model, keeping the same number of components (21) each time. Also calculating the difference between the confusion matrices, we can see that there was low increase in true positives but also larger increase in false negatives. This increase in false negatives or misclassifications might be where our accuracy score took a dip in comparison to the model using default parameters. Overall, these metrics don't really show the best parameters found via GridSearch helped build us a better model. "
   ]
  },
  {
   "cell_type": "markdown",
   "metadata": {},
   "source": [
    "# END POSSIBLE DELETION"
   ]
  },
  {
   "cell_type": "markdown",
   "metadata": {},
   "source": [
    "### Updated Best Parameters "
   ]
  },
  {
   "cell_type": "markdown",
   "metadata": {},
   "source": [
    "From a previous section of code, we were able to calculate the best possible parameters with GridSearch. The best parameters that were found were C=1, gamma =.1, and kernel ='poly'. Now we can use these parameters for our PCA. In this case we will use PCA with 21 components because in comparison to the other PCAs the PCA with 21 components had the highest accuracy score and the second highest number of true positives in the confusion matrix. This is also the number of features that are present in our dataset."
   ]
  },
  {
   "cell_type": "code",
   "execution_count": 67,
   "metadata": {},
   "outputs": [
    {
     "name": "stdout",
     "output_type": "stream",
     "text": [
      "The confusion matrix is \n",
      " [[480 305]\n",
      " [259 661]]\n",
      "The classification report is \n",
      "               precision    recall  f1-score   support\n",
      "\n",
      "         0.0       0.65      0.61      0.63       785\n",
      "         1.0       0.68      0.72      0.70       920\n",
      "\n",
      "    accuracy                           0.67      1705\n",
      "   macro avg       0.67      0.66      0.67      1705\n",
      "weighted avg       0.67      0.67      0.67      1705\n",
      "\n",
      "The accuracy score is \n",
      " 0.669208211143695\n"
     ]
    }
   ],
   "source": [
    "#Trying a PCA with 21 components to test best parameters\n",
    "pca = PCA(n_components=21, whiten=True, random_state =1)\n",
    "pca = pca.fit(train_vectors)\n",
    "\n",
    "##Now transforming train and test vectors into PCA train and test vectors\n",
    "pca_train_vectors = pca.transform(train_vectors)\n",
    "pca_test_vectors = pca.transform(test_vectors)\n",
    "\n",
    "#Adjusting parameters to match calculated best parameters from GridSearch\n",
    "pca_svm = SVC(kernel ='poly', C=1, gamma = 0.1)\n",
    "pca_model = pca_svm.fit(pca_train_vectors, train_labels)\n",
    "pca_ypred_poly = pca_model.predict(pca_test_vectors)\n",
    "\n",
    "#Now printing metrics to look at accuracy of model\n",
    "print('The confusion matrix is \\n', confusion_matrix(test_labels, pca_ypred_poly))\n",
    "print('The classification report is \\n', classification_report(test_labels, pca_ypred_poly))\n",
    "print('The accuracy score is \\n', accuracy_score(test_labels, pca_ypred_poly))"
   ]
  },
  {
   "cell_type": "markdown",
   "metadata": {},
   "source": [
    "As we can see above there is a slight dip in the accuracy score using the best parameters. There are also over 300 false positives and 259 false negatives, so this model still has a lot of misclassifications. Next we'll compare the metrics of this model to a PCA with the same kernel along with C and gamma values we used previously."
   ]
  },
  {
   "cell_type": "code",
   "execution_count": 77,
   "metadata": {},
   "outputs": [
    {
     "name": "stdout",
     "output_type": "stream",
     "text": [
      "The confusion matrix is \n",
      " [[476 309]\n",
      " [260 660]]\n",
      "The classification report is \n",
      "               precision    recall  f1-score   support\n",
      "\n",
      "         0.0       0.65      0.61      0.63       785\n",
      "         1.0       0.68      0.72      0.70       920\n",
      "\n",
      "    accuracy                           0.67      1705\n",
      "   macro avg       0.66      0.66      0.66      1705\n",
      "weighted avg       0.67      0.67      0.67      1705\n",
      "\n",
      "The accuracy score is \n",
      " 0.6662756598240469\n"
     ]
    }
   ],
   "source": [
    "#Trying a PCA with 21 components to test best parameters\n",
    "pca = PCA(n_components=21, whiten=True, random_state =1)\n",
    "pca = pca.fit(train_vectors)\n",
    "\n",
    "##Now transforming train and test vectors into PCA train and test vectors\n",
    "pca_train_vectors = pca.transform(train_vectors)\n",
    "pca_test_vectors = pca.transform(test_vectors)\n",
    "\n",
    "#Adjusting parameters to match calculated best parameters from GridSearch\n",
    "pca_svm = SVC(kernel ='poly', C=10, gamma = 0.1)\n",
    "pca_model = pca_svm.fit(pca_train_vectors, train_labels)\n",
    "pca_ypred_21poly = pca_model.predict(pca_test_vectors)\n",
    "\n",
    "#Now printing metrics to look at accuracy of model\n",
    "print('The confusion matrix is \\n', confusion_matrix(test_labels, pca_ypred_21poly))\n",
    "print('The classification report is \\n', classification_report(test_labels, pca_ypred_21poly))\n",
    "print('The accuracy score is \\n', accuracy_score(test_labels, pca_ypred_21poly))"
   ]
  },
  {
   "cell_type": "code",
   "execution_count": 78,
   "metadata": {},
   "outputs": [
    {
     "name": "stdout",
     "output_type": "stream",
     "text": [
      "The confusion matrix with best parameters and 21 components is \n",
      " [[476 309]\n",
      " [260 660]]\n",
      "The confusion matrix with 21 components is \n",
      " [[476 309]\n",
      " [260 660]]\n",
      "The accuracy score with best parameters and 21 components is \n",
      " 0.6662756598240469\n",
      "The accuracy score with 21 components is \n",
      " 0.6662756598240469\n"
     ]
    }
   ],
   "source": [
    "print('The confusion matrix with best parameters and 21 components is \\n',\n",
    "      confusion_matrix(test_labels, pca_ypred_poly))\n",
    "print('The confusion matrix with 21 components is \\n', confusion_matrix(test_labels, pca_ypred_21poly))\n",
    "print('The accuracy score with best parameters and 21 components is \\n',\n",
    "      accuracy_score(test_labels, pca_ypred_poly))\n",
    "print('The accuracy score with 21 components is \\n', accuracy_score(test_labels, pca_ypred_21poly))"
   ]
  },
  {
   "cell_type": "markdown",
   "metadata": {},
   "source": [
    "It's fairly hard to tell if the PCAs accuracy scores are any different here, so we will do some math to be able to further determine if there was any change in accuracy by using the best fit parameters from GridSearch."
   ]
  },
  {
   "cell_type": "code",
   "execution_count": 79,
   "metadata": {},
   "outputs": [
    {
     "name": "stdout",
     "output_type": "stream",
     "text": [
      "The drop in accuracy between the two PCAs is \n",
      " 0.0\n",
      "The difference in confusion matrices between PCAs is \n",
      " [[0 0]\n",
      " [0 0]]\n"
     ]
    }
   ],
   "source": [
    "drop_accuracy = accuracy_score(test_labels, pca_ypred_21poly) - accuracy_score(test_labels, pca_ypred_poly)\n",
    "print('The drop in accuracy between the two PCAs is \\n', round(drop_accuracy, 6))\n",
    "diff_confusion = confusion_matrix(test_labels, pca_ypred_21poly) - confusion_matrix(test_labels, pca_ypred21)\n",
    "print('The difference in confusion matrices between PCAs is \\n', diff_confusion)"
   ]
  },
  {
   "cell_type": "markdown",
   "metadata": {},
   "source": [
    "As shown in the cell above, there was actually no difference in accuracy score or the confusion matrix values when using best fit parameters found via GridSearch. The accuracy score and confusion matrix remained the same when using best fit parameters as it was when using C=10 and gamma=0.1"
   ]
  },
  {
   "cell_type": "markdown",
   "metadata": {},
   "source": [
    "### PCA Conclusion: \n",
    "\n",
    "Overall, we were able to look at how different numbers of components influenced our model metrics and accuracy. In comparing PCAs with 4, 10, 21 components all with an rbf kernel and C=10, gamma=0.1 parameters, we found that the PCA with 21 components had the best highest accuracy score and second highest number of true positives in the confusion matrix. Testing our PCA model with 21 components and the best parameters calculated previously using GridSearchCV we found no difference in metrics between the two models. Altogether, it's hard to see why these best parameters were chosen if they in fact did not improve the model at all. "
   ]
  },
  {
   "cell_type": "markdown",
   "metadata": {},
   "source": [
    "# Possible Limitations: Netflix Comparison\n",
    "\n",
    "Predicting a movie someone may like or dislike is similar to what the streaming site Netflix does for each viewer's profile. However, Netflix has access to much more personalized data such as all the other shows and movies someone watches and sometimes what rating they give it. Additionally, Netflix has information about other viewers who may watch similar things and can then recommend a movie based on things that these viewers have in common. They also factor in things such as the duration and times someone uses the site for, as well as the devices they watch on. All of these inputs are used to create more specific and more accurate recommendations. Additionally, within each different category on the home page such as \"Trending now\" or \"Comedies\", Netflix arranges these rows in order of which movie is most likely to be enjoyed by that specific viewer. So each column in the rows start with the movie Netflix recommends most in that category, even though it is not in the \"Recommended\" category. Furthermore, the most strongly recommended rows go on top of the home screen, so both the rows and columns of each profile is laid out in a way that puts Netflix's highest recommendations in the front. All this sorting is why it is said that there are \"33 million different versions of Netflix\", one personalized for each viewer. To be able to create so many predictions and sort movies in such a strong, personalized way is why Netflix needs all these specific factors, and to compare viewers with similar taste. Without this information it would be much more difficult and less accurate to predict a movie someone may like.\n",
    "\n",
    "#### Sources:\n",
    "\n",
    "https://help.netflix.com/en/node/100639\n",
    "\n",
    "https://neilpatel.com/blog/how-netflix-uses-analytics/"
   ]
  },
  {
   "cell_type": "code",
   "execution_count": null,
   "metadata": {},
   "outputs": [],
   "source": []
  }
 ],
 "metadata": {
  "kernelspec": {
   "display_name": "Python 3",
   "language": "python",
   "name": "python3"
  },
  "language_info": {
   "codemirror_mode": {
    "name": "ipython",
    "version": 3
   },
   "file_extension": ".py",
   "mimetype": "text/x-python",
   "name": "python",
   "nbconvert_exporter": "python",
   "pygments_lexer": "ipython3",
   "version": "3.8.3"
  }
 },
 "nbformat": 4,
 "nbformat_minor": 4
}
